{
 "cells": [
  {
   "cell_type": "code",
   "execution_count": 121,
   "metadata": {},
   "outputs": [],
   "source": [
    "import pandas as pd\n",
    "import datetime\n",
    "from gsheets_connect import GoogleSheets, Connect\n",
    "import helper_functions as hlp\n",
    "from expense import Expense"
   ]
  },
  {
   "cell_type": "code",
   "execution_count": 104,
   "metadata": {},
   "outputs": [],
   "source": [
    "mnths_dict = {\n",
    "    'Ene':'01','Feb':'02','Mar':'03',\n",
    "    'Abr':'04','May':'05','Jun':'06',\n",
    "    'Jul':'07','Ago':'08','Sep':'09',\n",
    "    'Oct':'10','Nov':'11','Dic':'12'\n",
    "}"
   ]
  },
  {
   "cell_type": "code",
   "execution_count": 113,
   "metadata": {},
   "outputs": [],
   "source": [
    "data = pd.read_html('5470467005458188 - 17_Ene_20.xls')\n",
    "\n",
    "cols = data[1].loc[5,:].drop(1)\n",
    "cols.name = 'ix'\n",
    "\n",
    "data = data[1].loc[6:,:].drop(1, axis=1)\n",
    "\n",
    "data.columns = cols\n",
    "data.reset_index(inplace=True, drop=True)"
   ]
  },
  {
   "cell_type": "code",
   "execution_count": 114,
   "metadata": {},
   "outputs": [],
   "source": [
    "from datetime import datetime"
   ]
  },
  {
   "cell_type": "code",
   "execution_count": 115,
   "metadata": {},
   "outputs": [],
   "source": [
    "d = data.loc[0, 'FECHA']"
   ]
  },
  {
   "cell_type": "code",
   "execution_count": 116,
   "metadata": {
    "scrolled": true
   },
   "outputs": [],
   "source": [
    "def parse_month(date_string):\n",
    "    for m,v in mnths_dict.items():\n",
    "        if m in date_string:\n",
    "            date_string = date_string.replace(m,v)\n",
    "    return date_string"
   ]
  },
  {
   "cell_type": "code",
   "execution_count": 117,
   "metadata": {},
   "outputs": [],
   "source": [
    "data.iloc[:,0] = data.iloc[:,0].apply(\n",
    "    lambda d: parse_month(d)\n",
    ").apply(\n",
    "    lambda d: datetime.strptime(d, '%d/%m/%Y')\n",
    ")\n",
    "\n",
    "data.iloc[:,2] = data.iloc[:,2].astype(float)"
   ]
  },
  {
   "cell_type": "code",
   "execution_count": 120,
   "metadata": {
    "scrolled": true
   },
   "outputs": [],
   "source": [
    "positive_data = data.loc[data.iloc[:,2]>0]"
   ]
  },
  {
   "cell_type": "code",
   "execution_count": 122,
   "metadata": {},
   "outputs": [],
   "source": [
    "cols = [\n",
    "    \"Amount $\",\n",
    "    \"Expense Day\", \n",
    "    \"Expense Month\", \n",
    "    \"Payment Day\", \n",
    "    \"Payment Month\", \n",
    "    \"Installments\", \n",
    "    \"Payment Method\",\n",
    "    \"Method Name\",\n",
    "    \"Category\", \n",
    "    \"Sub Category\",\n",
    "    \"Payment Fortnight\"\n",
    "]\n",
    "new_expenses_df = pd.DataFrame(columns=cols)"
   ]
  },
  {
   "cell_type": "code",
   "execution_count": 123,
   "metadata": {},
   "outputs": [
    {
     "data": {
      "text/html": [
       "<div>\n",
       "<style scoped>\n",
       "    .dataframe tbody tr th:only-of-type {\n",
       "        vertical-align: middle;\n",
       "    }\n",
       "\n",
       "    .dataframe tbody tr th {\n",
       "        vertical-align: top;\n",
       "    }\n",
       "\n",
       "    .dataframe thead th {\n",
       "        text-align: right;\n",
       "    }\n",
       "</style>\n",
       "<table border=\"1\" class=\"dataframe\">\n",
       "  <thead>\n",
       "    <tr style=\"text-align: right;\">\n",
       "      <th></th>\n",
       "      <th>Amount $</th>\n",
       "      <th>Expense Day</th>\n",
       "      <th>Expense Month</th>\n",
       "      <th>Payment Day</th>\n",
       "      <th>Payment Month</th>\n",
       "      <th>Installments</th>\n",
       "      <th>Payment Method</th>\n",
       "      <th>Method Name</th>\n",
       "      <th>Category</th>\n",
       "      <th>Sub Category</th>\n",
       "      <th>Payment Fortnight</th>\n",
       "    </tr>\n",
       "  </thead>\n",
       "  <tbody>\n",
       "  </tbody>\n",
       "</table>\n",
       "</div>"
      ],
      "text/plain": [
       "Empty DataFrame\n",
       "Columns: [Amount $, Expense Day, Expense Month, Payment Day, Payment Month, Installments, Payment Method, Method Name, Category, Sub Category, Payment Fortnight]\n",
       "Index: []"
      ]
     },
     "execution_count": 123,
     "metadata": {},
     "output_type": "execute_result"
    }
   ],
   "source": [
    "new_expenses_df"
   ]
  },
  {
   "cell_type": "code",
   "execution_count": null,
   "metadata": {},
   "outputs": [
    {
     "name": "stdout",
     "output_type": "stream",
     "text": [
      "\n",
      "----------------------------------\n",
      "Currently Processing this expense:\n",
      "ix\n",
      "FECHA          2020-01-15 00:00:00\n",
      "CONCEPTO    S WORLD PATRIOTISMO VD\n",
      "IMPORTE                      19430\n",
      "Name: 0, dtype: object\n",
      "Continue? y\n",
      "\n",
      "----------------------------------\n",
      "Currently Processing this expense:\n",
      "ix\n",
      "FECHA          2020-01-15 00:00:00\n",
      "CONCEPTO    S WORLD PATRIOTISMO VD\n",
      "IMPORTE                       2459\n",
      "Name: 1, dtype: object\n"
     ]
    }
   ],
   "source": [
    "new_expenses = []\n",
    "for ix, row in positive_data.iterrows():\n",
    "    print('')\n",
    "    print('----------------------------------')\n",
    "    print(\"Currently Processing this expense:\")\n",
    "    print(row)\n",
    "    #new_expense = Expense()\n",
    "    inpt = input('Continue? ')\n",
    "    if inpt != 'y':\n",
    "        break"
   ]
  },
  {
   "cell_type": "code",
   "execution_count": 2,
   "metadata": {},
   "outputs": [],
   "source": [
    "GSHEET_ID = '14a36tesQZ2AH0aIEdG5Ch2F8iVyrnXCvlxeASLX47N4'"
   ]
  },
  {
   "cell_type": "code",
   "execution_count": 3,
   "metadata": {},
   "outputs": [],
   "source": [
    "gsheet = GoogleSheets()"
   ]
  },
  {
   "cell_type": "code",
   "execution_count": 5,
   "metadata": {
    "scrolled": true
   },
   "outputs": [],
   "source": [
    "data = hlp.retrieveDataFromSheet(\n",
    "    gsheet, \n",
    "    GSHEET_ID, \n",
    "    sheet_name = 'automatic spends loader'\n",
    ")"
   ]
  },
  {
   "cell_type": "code",
   "execution_count": 9,
   "metadata": {},
   "outputs": [],
   "source": [
    "import arrow"
   ]
  },
  {
   "cell_type": "code",
   "execution_count": 8,
   "metadata": {},
   "outputs": [
    {
     "data": {
      "text/plain": [
       "0    15/01/2020\n",
       "1    16/01/2020\n",
       "2    17/01/2020\n",
       "3    17/01/2020\n",
       "Name: Date, dtype: object"
      ]
     },
     "execution_count": 8,
     "metadata": {},
     "output_type": "execute_result"
    }
   ],
   "source": [
    "data['escrom'] = data['Date'].apply(lambda x: arrow.get)"
   ]
  },
  {
   "cell_type": "code",
   "execution_count": 5,
   "metadata": {},
   "outputs": [],
   "source": [
    "cur_data = pd.read_csv(r'daily_data.txt', sep=' ')\n",
    "\n",
    "#cur_data['Payment Day'] = pd.to_datetime(cur_data['Payment Day']).dt.date\n",
    "\n",
    "cur_data['Payment Fortnight'] = cur_data['Payment Day'].apply(\n",
    "    lambda date: str(pd.to_datetime(date).replace(day=15 if pd.to_datetime(date).day <= 15 else 30).date())\n",
    ")"
   ]
  },
  {
   "cell_type": "code",
   "execution_count": 6,
   "metadata": {
    "scrolled": true
   },
   "outputs": [
    {
     "data": {
      "text/plain": [
       "array([['Amount $', 'Expense Day', 'Expense Month', 'Payment Day',\n",
       "        'Payment Month', 'Installments', 'Payment Method', 'Method Name',\n",
       "        'Category', 'Sub Category', 'Payment Fortnight'],\n",
       "       [267.0, '2019-08-01', 201908.0, '2019-08-01', 201908.0, 1.0,\n",
       "        'debit', 'debit', 'Food', 'Restaurants', '2019-08-15'],\n",
       "       [633.0, '2019-08-12', 201908.0, '2019-08-15', 201908.0, 1.0,\n",
       "        'credit', 'Santander-Free', 'Personal Stuff', 'Stuff for me',\n",
       "        '2019-08-15'],\n",
       "       [633.0, '2019-08-12', 201908.0, '2019-09-15', 201909.0, 1.0,\n",
       "        'credit', 'Santander-Free', 'Personal Stuff', 'Stuff for me',\n",
       "        '2019-09-15'],\n",
       "       [633.0, '2019-08-12', 201908.0, '2019-10-15', 201910.0, 1.0,\n",
       "        'credit', 'Santander-Free', 'Personal Stuff', 'Stuff for me',\n",
       "        '2019-10-15'],\n",
       "       [633.0, '2019-08-12', 201908.0, '2019-11-15', 201911.0, 1.0,\n",
       "        'credit', 'Santander-Free', 'Personal Stuff', 'Stuff for me',\n",
       "        '2019-11-15'],\n",
       "       [633.0, '2019-08-12', 201908.0, '2019-12-15', 201912.0, 1.0,\n",
       "        'credit', 'Santander-Free', 'Personal Stuff', 'Stuff for me',\n",
       "        '2019-12-15'],\n",
       "       [633.0, '2019-08-12', 201908.0, '2020-01-15', 202001.0, 1.0,\n",
       "        'credit', 'Santander-Free', 'Personal Stuff', 'Stuff for me',\n",
       "        '2020-01-15'],\n",
       "       [625.1666666666666, '2019-08-14', 201908.0, '2020-01-30',\n",
       "        202001.0, 1.0, 'credit', 'Bancomer-Platinum', 'Personal Stuff',\n",
       "        'Stuff for me', '2020-01-30'],\n",
       "       [625.1666666666666, '2019-08-14', 201908.0, '2019-12-30',\n",
       "        201912.0, 1.0, 'credit', 'Bancomer-Platinum', 'Personal Stuff',\n",
       "        'Stuff for me', '2019-12-30'],\n",
       "       [625.1666666666666, '2019-08-14', 201908.0, '2019-11-30',\n",
       "        201911.0, 1.0, 'credit', 'Bancomer-Platinum', 'Personal Stuff',\n",
       "        'Stuff for me', '2019-11-30'],\n",
       "       [625.1666666666666, '2019-08-14', 201908.0, '2019-10-30',\n",
       "        201910.0, 1.0, 'credit', 'Bancomer-Platinum', 'Personal Stuff',\n",
       "        'Stuff for me', '2019-10-30'],\n",
       "       [625.1666666666666, '2019-08-14', 201908.0, '2019-09-30',\n",
       "        201909.0, 1.0, 'credit', 'Bancomer-Platinum', 'Personal Stuff',\n",
       "        'Stuff for me', '2019-09-30'],\n",
       "       [625.1666666666666, '2019-08-14', 201908.0, '2019-08-30',\n",
       "        201908.0, 1.0, 'credit', 'Bancomer-Platinum', 'Personal Stuff',\n",
       "        'Stuff for me', '2019-08-30'],\n",
       "       [1.0, '2019-08-15', 201908.0, '2019-08-30', 201908.0, 1.0,\n",
       "        'credit', 'Bancomer-Platinum', 'Getting Around', 'Gas',\n",
       "        '2019-08-30'],\n",
       "       [1.0, '2019-08-15', 201908.0, '2019-09-30', 201909.0, 1.0,\n",
       "        'credit', 'Bancomer-Platinum', 'Getting Around', 'Gas',\n",
       "        '2019-09-30'],\n",
       "       [1.0, '2019-08-15', 201908.0, '2019-10-30', 201910.0, 1.0,\n",
       "        'credit', 'Bancomer-Platinum', 'Getting Around', 'Gas',\n",
       "        '2019-10-30'],\n",
       "       [1.0, '2019-08-15', 201908.0, '2019-11-30', 201911.0, 1.0,\n",
       "        'credit', 'Bancomer-Platinum', 'Getting Around', 'Gas',\n",
       "        '2019-11-30'],\n",
       "       [1.0, '2019-08-15', 201908.0, '2019-12-30', 201912.0, 1.0,\n",
       "        'credit', 'Bancomer-Platinum', 'Getting Around', 'Gas',\n",
       "        '2019-12-30'],\n",
       "       [1.0, '2019-08-15', 201908.0, '2020-01-30', 202001.0, 1.0,\n",
       "        'credit', 'Bancomer-Platinum', 'Getting Around', 'Gas',\n",
       "        '2020-01-30']], dtype=object)"
      ]
     },
     "execution_count": 6,
     "metadata": {},
     "output_type": "execute_result"
    }
   ],
   "source": [
    "hlp.dataFrameToListOfValues(cur_data)"
   ]
  },
  {
   "cell_type": "code",
   "execution_count": 7,
   "metadata": {},
   "outputs": [
    {
     "name": "stdout",
     "output_type": "stream",
     "text": [
      "220 cells updated.\n"
     ]
    }
   ],
   "source": [
    "gsheet.values_to_gsheet(\n",
    "    gsheet_id = GSHEET_ID,\n",
    "    values_list = hlp.dataFrameToListOfValues(cur_data).tolist(),  \n",
    "    range_start='data'\n",
    ")"
   ]
  },
  {
   "cell_type": "code",
   "execution_count": 5,
   "metadata": {},
   "outputs": [],
   "source": [
    "cols = np.array(cur_data.columns)\n",
    "\n",
    "cols_values = cols.tolist()\n",
    "\n",
    "values_arr = cur_data.values\n",
    "\n",
    "list_of_rows = np.insert(values_arr, 0, cols_values, 0)"
   ]
  },
  {
   "cell_type": "code",
   "execution_count": 9,
   "metadata": {},
   "outputs": [],
   "source": [
    "request = gsheet.service.spreadsheets().values().clear(\n",
    "    spreadsheetId=GSHEET_ID, \n",
    "    range='bimonthly data' \n",
    "    #body=clear_values_request_body\n",
    ")\n",
    "response = request.execute()"
   ]
  },
  {
   "cell_type": "code",
   "execution_count": 6,
   "metadata": {},
   "outputs": [],
   "source": [
    "categories_titles = gsheet.gsheet_to_df(\n",
    "    spreadsheet_id = '14a36tesQZ2AH0aIEdG5Ch2F8iVyrnXCvlxeASLX47N4',\n",
    "    range_name = 'biweekly plan!B27:D100'\n",
    ")"
   ]
  },
  {
   "cell_type": "code",
   "execution_count": 92,
   "metadata": {},
   "outputs": [],
   "source": [
    "cur_data = gsheet.gsheet_to_df(\n",
    "    spreadsheet_id = '14a36tesQZ2AH0aIEdG5Ch2F8iVyrnXCvlxeASLX47N4',\n",
    "    range_name = 'data'\n",
    ")"
   ]
  },
  {
   "cell_type": "code",
   "execution_count": 95,
   "metadata": {},
   "outputs": [
    {
     "data": {
      "text/plain": [
       "Index(['Amount $', 'Expense Day', 'Expense Month', 'Payment Day',\n",
       "       'Payment Month', 'Installments', 'Payment Method', 'Method Name',\n",
       "       'Category', 'Sub Category', 'Payment Fortnight'],\n",
       "      dtype='object')"
      ]
     },
     "execution_count": 95,
     "metadata": {},
     "output_type": "execute_result"
    }
   ],
   "source": [
    "cur_data.columns"
   ]
  },
  {
   "cell_type": "code",
   "execution_count": 7,
   "metadata": {},
   "outputs": [],
   "source": [
    "separations = categories_titles[\n",
    "    categories_titles['Variable Expenses'].isnull()\n",
    "].index"
   ]
  },
  {
   "cell_type": "code",
   "execution_count": 8,
   "metadata": {},
   "outputs": [
    {
     "data": {
      "text/plain": [
       "Int64Index([0, 7, 12, 18, 24, 32, 37], dtype='int64')"
      ]
     },
     "execution_count": 8,
     "metadata": {},
     "output_type": "execute_result"
    }
   ],
   "source": [
    "separations#[:-1]"
   ]
  },
  {
   "cell_type": "code",
   "execution_count": 15,
   "metadata": {
    "scrolled": true
   },
   "outputs": [],
   "source": [
    "cats = {}\n",
    "sub_cats = {}\n",
    "for i in range(1,len(separations)):\n",
    "    ix_1 = separations[i-1]+1\n",
    "    ix_2 = separations[i]-1\n",
    "    cat = categories_titles.loc[ix_1:ix_2, 'Variable Expenses']\n",
    "    cats[i] =  cat.iloc[0]\n",
    "    sc = {}\n",
    "    for j, c in enumerate(cat.iloc[1:]):\n",
    "        sc[j+1] = c\n",
    "    sub_cats[cat.iloc[0]] = sc\n",
    "cat = categories_titles.loc[separations[-1]+1:, 'Variable Expenses']\n",
    "cats[len(separations)] =  cat.iloc[0]\n",
    "sc = {}\n",
    "for j, c in enumerate(cat.iloc[1:]):\n",
    "    sc[j+1] = c\n",
    "sub_cats[cat.iloc[0]] = sc"
   ]
  },
  {
   "cell_type": "code",
   "execution_count": 25,
   "metadata": {},
   "outputs": [],
   "source": [
    "cats_template = hlp.categoriesTemplate(sub_cats).sort_index()\n",
    "cats_template['range'] = np.arange(1, cats_template.shape[0]+1)"
   ]
  },
  {
   "cell_type": "code",
   "execution_count": 33,
   "metadata": {},
   "outputs": [],
   "source": [
    "pivot = pd.pivot_table(\n",
    "    cur_data, \n",
    "    values = 'Amount $',\n",
    "    columns='Payment Fortnight',\n",
    "    aggfunc='sum',\n",
    "    index=['Category', 'Sub Category']\n",
    ").reset_index()"
   ]
  },
  {
   "cell_type": "code",
   "execution_count": 75,
   "metadata": {
    "scrolled": true
   },
   "outputs": [],
   "source": [
    "data_with_all_cats = pd.merge(\n",
    "    cats_template, \n",
    "    pivot, \n",
    "    on = ['Category', 'Sub Category'], \n",
    "    how='left'\n",
    ").fillna(0)\n",
    "\n",
    "pivoted_to_write_on_gsheet = pd.DataFrame(\n",
    "    data_with_all_cats.set_index(\n",
    "        ['Category', 'Sub Category', 'range']\n",
    "    ).stack()\n",
    ").reset_index().rename(\n",
    "    columns={\n",
    "        'level_3': 'Payment Fortnight', \n",
    "        0: 'Amount $'\n",
    "    }\n",
    ")"
   ]
  },
  {
   "cell_type": "code",
   "execution_count": 77,
   "metadata": {
    "scrolled": true
   },
   "outputs": [],
   "source": [
    "pivoted_to_write_on_gsheet = pivoted_to_write_on_gsheet.loc[\n",
    "    :,\n",
    "    ['range', 'Category', 'Sub Category', 'Payment Fortnight', 'Amount $']\n",
    "]"
   ]
  },
  {
   "cell_type": "code",
   "execution_count": 78,
   "metadata": {},
   "outputs": [],
   "source": [
    "cols = np.array(pivoted_to_write_on_gsheet.columns)\n",
    "\n",
    "cols_values = cols.tolist()\n",
    "\n",
    "values_arr = pivoted_to_write_on_gsheet.values#.tolist()\n",
    "\n",
    "list_of_rows = np.insert(values_arr, 0, cols_values, 0)"
   ]
  },
  {
   "cell_type": "code",
   "execution_count": 80,
   "metadata": {},
   "outputs": [
    {
     "name": "stdout",
     "output_type": "stream",
     "text": [
      "1625 cells updated.\n"
     ]
    }
   ],
   "source": [
    "data = [\n",
    "    {\n",
    "        'range': 'biweekly data!B2',\n",
    "        'values': list_of_rows.tolist()\n",
    "    }\n",
    "]\n",
    "body = {\n",
    "    'valueInputOption': 'RAW',\n",
    "    'data': data\n",
    "}\n",
    "result = service.spreadsheets().values().batchUpdate(\n",
    "    spreadsheetId='14a36tesQZ2AH0aIEdG5Ch2F8iVyrnXCvlxeASLX47N4', body=body).execute()\n",
    "print('{0} cells updated.'.format(result.get('totalUpdatedCells')))"
   ]
  },
  {
   "cell_type": "code",
   "execution_count": 81,
   "metadata": {},
   "outputs": [
    {
     "data": {
      "text/plain": [
       "Index(['Amount $', 'Expense Day', 'Expense Month', 'Payment Day',\n",
       "       'Payment Month', 'Installments', 'Payment Method', 'Method Name',\n",
       "       'Category', 'Sub Category', 'Payment Fortnight'],\n",
       "      dtype='object')"
      ]
     },
     "execution_count": 81,
     "metadata": {},
     "output_type": "execute_result"
    }
   ],
   "source": [
    "cur_data.columns"
   ]
  },
  {
   "cell_type": "code",
   "execution_count": 84,
   "metadata": {
    "scrolled": true
   },
   "outputs": [],
   "source": [
    "monthly_pivot = pd.pivot_table(\n",
    "    cur_data, \n",
    "    values = 'Amount $',\n",
    "    columns='Payment Month',\n",
    "    aggfunc='sum',\n",
    "    index=['Category', 'Sub Category']\n",
    ").reset_index()"
   ]
  },
  {
   "cell_type": "code",
   "execution_count": 87,
   "metadata": {},
   "outputs": [],
   "source": [
    "data_with_all_cats = pd.merge(\n",
    "    cats_template, \n",
    "    monthly_pivot, \n",
    "    on = ['Category', 'Sub Category'], \n",
    "    how='left'\n",
    ").fillna(0)\n",
    "\n",
    "pivoted_to_write_on_gsheet = pd.DataFrame(\n",
    "    data_with_all_cats.set_index(\n",
    "        ['Category', 'Sub Category', 'range']\n",
    "    ).stack()\n",
    ").reset_index().rename(\n",
    "    columns={\n",
    "        'level_3': 'Payment Month', \n",
    "        0: 'Amount $'\n",
    "    }\n",
    ")"
   ]
  },
  {
   "cell_type": "code",
   "execution_count": 88,
   "metadata": {
    "scrolled": true
   },
   "outputs": [
    {
     "data": {
      "text/html": [
       "<div>\n",
       "<style scoped>\n",
       "    .dataframe tbody tr th:only-of-type {\n",
       "        vertical-align: middle;\n",
       "    }\n",
       "\n",
       "    .dataframe tbody tr th {\n",
       "        vertical-align: top;\n",
       "    }\n",
       "\n",
       "    .dataframe thead th {\n",
       "        text-align: right;\n",
       "    }\n",
       "</style>\n",
       "<table border=\"1\" class=\"dataframe\">\n",
       "  <thead>\n",
       "    <tr style=\"text-align: right;\">\n",
       "      <th></th>\n",
       "      <th>Category</th>\n",
       "      <th>Sub Category</th>\n",
       "      <th>range</th>\n",
       "      <th>Payment Month</th>\n",
       "      <th>Amount $</th>\n",
       "    </tr>\n",
       "  </thead>\n",
       "  <tbody>\n",
       "    <tr>\n",
       "      <th>0</th>\n",
       "      <td>Food</td>\n",
       "      <td>Super Market</td>\n",
       "      <td>1</td>\n",
       "      <td>201908.0</td>\n",
       "      <td>0.0</td>\n",
       "    </tr>\n",
       "    <tr>\n",
       "      <th>1</th>\n",
       "      <td>Food</td>\n",
       "      <td>Super Market</td>\n",
       "      <td>1</td>\n",
       "      <td>201909.0</td>\n",
       "      <td>0.0</td>\n",
       "    </tr>\n",
       "    <tr>\n",
       "      <th>2</th>\n",
       "      <td>Food</td>\n",
       "      <td>Super Market</td>\n",
       "      <td>1</td>\n",
       "      <td>201910.0</td>\n",
       "      <td>0.0</td>\n",
       "    </tr>\n",
       "    <tr>\n",
       "      <th>3</th>\n",
       "      <td>Food</td>\n",
       "      <td>Super Market</td>\n",
       "      <td>1</td>\n",
       "      <td>201911.0</td>\n",
       "      <td>0.0</td>\n",
       "    </tr>\n",
       "    <tr>\n",
       "      <th>4</th>\n",
       "      <td>Food</td>\n",
       "      <td>Super Market</td>\n",
       "      <td>1</td>\n",
       "      <td>201912.0</td>\n",
       "      <td>0.0</td>\n",
       "    </tr>\n",
       "    <tr>\n",
       "      <th>5</th>\n",
       "      <td>Food</td>\n",
       "      <td>Super Market</td>\n",
       "      <td>1</td>\n",
       "      <td>202001.0</td>\n",
       "      <td>0.0</td>\n",
       "    </tr>\n",
       "    <tr>\n",
       "      <th>6</th>\n",
       "      <td>Food</td>\n",
       "      <td>Restaurants</td>\n",
       "      <td>2</td>\n",
       "      <td>201908.0</td>\n",
       "      <td>267.0</td>\n",
       "    </tr>\n",
       "    <tr>\n",
       "      <th>7</th>\n",
       "      <td>Food</td>\n",
       "      <td>Restaurants</td>\n",
       "      <td>2</td>\n",
       "      <td>201909.0</td>\n",
       "      <td>0.0</td>\n",
       "    </tr>\n",
       "    <tr>\n",
       "      <th>8</th>\n",
       "      <td>Food</td>\n",
       "      <td>Restaurants</td>\n",
       "      <td>2</td>\n",
       "      <td>201910.0</td>\n",
       "      <td>0.0</td>\n",
       "    </tr>\n",
       "    <tr>\n",
       "      <th>9</th>\n",
       "      <td>Food</td>\n",
       "      <td>Restaurants</td>\n",
       "      <td>2</td>\n",
       "      <td>201911.0</td>\n",
       "      <td>0.0</td>\n",
       "    </tr>\n",
       "    <tr>\n",
       "      <th>10</th>\n",
       "      <td>Food</td>\n",
       "      <td>Restaurants</td>\n",
       "      <td>2</td>\n",
       "      <td>201912.0</td>\n",
       "      <td>0.0</td>\n",
       "    </tr>\n",
       "    <tr>\n",
       "      <th>11</th>\n",
       "      <td>Food</td>\n",
       "      <td>Restaurants</td>\n",
       "      <td>2</td>\n",
       "      <td>202001.0</td>\n",
       "      <td>0.0</td>\n",
       "    </tr>\n",
       "    <tr>\n",
       "      <th>12</th>\n",
       "      <td>Food</td>\n",
       "      <td>Take-out and bingeing</td>\n",
       "      <td>3</td>\n",
       "      <td>201908.0</td>\n",
       "      <td>0.0</td>\n",
       "    </tr>\n",
       "    <tr>\n",
       "      <th>13</th>\n",
       "      <td>Food</td>\n",
       "      <td>Take-out and bingeing</td>\n",
       "      <td>3</td>\n",
       "      <td>201909.0</td>\n",
       "      <td>0.0</td>\n",
       "    </tr>\n",
       "    <tr>\n",
       "      <th>14</th>\n",
       "      <td>Food</td>\n",
       "      <td>Take-out and bingeing</td>\n",
       "      <td>3</td>\n",
       "      <td>201910.0</td>\n",
       "      <td>0.0</td>\n",
       "    </tr>\n",
       "    <tr>\n",
       "      <th>15</th>\n",
       "      <td>Food</td>\n",
       "      <td>Take-out and bingeing</td>\n",
       "      <td>3</td>\n",
       "      <td>201911.0</td>\n",
       "      <td>0.0</td>\n",
       "    </tr>\n",
       "    <tr>\n",
       "      <th>16</th>\n",
       "      <td>Food</td>\n",
       "      <td>Take-out and bingeing</td>\n",
       "      <td>3</td>\n",
       "      <td>201912.0</td>\n",
       "      <td>0.0</td>\n",
       "    </tr>\n",
       "    <tr>\n",
       "      <th>17</th>\n",
       "      <td>Food</td>\n",
       "      <td>Take-out and bingeing</td>\n",
       "      <td>3</td>\n",
       "      <td>202001.0</td>\n",
       "      <td>0.0</td>\n",
       "    </tr>\n",
       "    <tr>\n",
       "      <th>18</th>\n",
       "      <td>Food</td>\n",
       "      <td>Coffe</td>\n",
       "      <td>4</td>\n",
       "      <td>201908.0</td>\n",
       "      <td>0.0</td>\n",
       "    </tr>\n",
       "    <tr>\n",
       "      <th>19</th>\n",
       "      <td>Food</td>\n",
       "      <td>Coffe</td>\n",
       "      <td>4</td>\n",
       "      <td>201909.0</td>\n",
       "      <td>0.0</td>\n",
       "    </tr>\n",
       "    <tr>\n",
       "      <th>20</th>\n",
       "      <td>Food</td>\n",
       "      <td>Coffe</td>\n",
       "      <td>4</td>\n",
       "      <td>201910.0</td>\n",
       "      <td>0.0</td>\n",
       "    </tr>\n",
       "    <tr>\n",
       "      <th>21</th>\n",
       "      <td>Food</td>\n",
       "      <td>Coffe</td>\n",
       "      <td>4</td>\n",
       "      <td>201911.0</td>\n",
       "      <td>0.0</td>\n",
       "    </tr>\n",
       "    <tr>\n",
       "      <th>22</th>\n",
       "      <td>Food</td>\n",
       "      <td>Coffe</td>\n",
       "      <td>4</td>\n",
       "      <td>201912.0</td>\n",
       "      <td>0.0</td>\n",
       "    </tr>\n",
       "    <tr>\n",
       "      <th>23</th>\n",
       "      <td>Food</td>\n",
       "      <td>Coffe</td>\n",
       "      <td>4</td>\n",
       "      <td>202001.0</td>\n",
       "      <td>0.0</td>\n",
       "    </tr>\n",
       "    <tr>\n",
       "      <th>24</th>\n",
       "      <td>Food</td>\n",
       "      <td>Other</td>\n",
       "      <td>5</td>\n",
       "      <td>201908.0</td>\n",
       "      <td>0.0</td>\n",
       "    </tr>\n",
       "    <tr>\n",
       "      <th>25</th>\n",
       "      <td>Food</td>\n",
       "      <td>Other</td>\n",
       "      <td>5</td>\n",
       "      <td>201909.0</td>\n",
       "      <td>0.0</td>\n",
       "    </tr>\n",
       "    <tr>\n",
       "      <th>26</th>\n",
       "      <td>Food</td>\n",
       "      <td>Other</td>\n",
       "      <td>5</td>\n",
       "      <td>201910.0</td>\n",
       "      <td>0.0</td>\n",
       "    </tr>\n",
       "    <tr>\n",
       "      <th>27</th>\n",
       "      <td>Food</td>\n",
       "      <td>Other</td>\n",
       "      <td>5</td>\n",
       "      <td>201911.0</td>\n",
       "      <td>0.0</td>\n",
       "    </tr>\n",
       "    <tr>\n",
       "      <th>28</th>\n",
       "      <td>Food</td>\n",
       "      <td>Other</td>\n",
       "      <td>5</td>\n",
       "      <td>201912.0</td>\n",
       "      <td>0.0</td>\n",
       "    </tr>\n",
       "    <tr>\n",
       "      <th>29</th>\n",
       "      <td>Food</td>\n",
       "      <td>Other</td>\n",
       "      <td>5</td>\n",
       "      <td>202001.0</td>\n",
       "      <td>0.0</td>\n",
       "    </tr>\n",
       "    <tr>\n",
       "      <th>...</th>\n",
       "      <td>...</td>\n",
       "      <td>...</td>\n",
       "      <td>...</td>\n",
       "      <td>...</td>\n",
       "      <td>...</td>\n",
       "    </tr>\n",
       "    <tr>\n",
       "      <th>132</th>\n",
       "      <td>Apartment Spends</td>\n",
       "      <td>Stuff for the Apartment</td>\n",
       "      <td>23</td>\n",
       "      <td>201908.0</td>\n",
       "      <td>0.0</td>\n",
       "    </tr>\n",
       "    <tr>\n",
       "      <th>133</th>\n",
       "      <td>Apartment Spends</td>\n",
       "      <td>Stuff for the Apartment</td>\n",
       "      <td>23</td>\n",
       "      <td>201909.0</td>\n",
       "      <td>0.0</td>\n",
       "    </tr>\n",
       "    <tr>\n",
       "      <th>134</th>\n",
       "      <td>Apartment Spends</td>\n",
       "      <td>Stuff for the Apartment</td>\n",
       "      <td>23</td>\n",
       "      <td>201910.0</td>\n",
       "      <td>0.0</td>\n",
       "    </tr>\n",
       "    <tr>\n",
       "      <th>135</th>\n",
       "      <td>Apartment Spends</td>\n",
       "      <td>Stuff for the Apartment</td>\n",
       "      <td>23</td>\n",
       "      <td>201911.0</td>\n",
       "      <td>0.0</td>\n",
       "    </tr>\n",
       "    <tr>\n",
       "      <th>136</th>\n",
       "      <td>Apartment Spends</td>\n",
       "      <td>Stuff for the Apartment</td>\n",
       "      <td>23</td>\n",
       "      <td>201912.0</td>\n",
       "      <td>0.0</td>\n",
       "    </tr>\n",
       "    <tr>\n",
       "      <th>137</th>\n",
       "      <td>Apartment Spends</td>\n",
       "      <td>Stuff for the Apartment</td>\n",
       "      <td>23</td>\n",
       "      <td>202001.0</td>\n",
       "      <td>0.0</td>\n",
       "    </tr>\n",
       "    <tr>\n",
       "      <th>138</th>\n",
       "      <td>Apartment Spends</td>\n",
       "      <td>Services</td>\n",
       "      <td>24</td>\n",
       "      <td>201908.0</td>\n",
       "      <td>0.0</td>\n",
       "    </tr>\n",
       "    <tr>\n",
       "      <th>139</th>\n",
       "      <td>Apartment Spends</td>\n",
       "      <td>Services</td>\n",
       "      <td>24</td>\n",
       "      <td>201909.0</td>\n",
       "      <td>0.0</td>\n",
       "    </tr>\n",
       "    <tr>\n",
       "      <th>140</th>\n",
       "      <td>Apartment Spends</td>\n",
       "      <td>Services</td>\n",
       "      <td>24</td>\n",
       "      <td>201910.0</td>\n",
       "      <td>0.0</td>\n",
       "    </tr>\n",
       "    <tr>\n",
       "      <th>141</th>\n",
       "      <td>Apartment Spends</td>\n",
       "      <td>Services</td>\n",
       "      <td>24</td>\n",
       "      <td>201911.0</td>\n",
       "      <td>0.0</td>\n",
       "    </tr>\n",
       "    <tr>\n",
       "      <th>142</th>\n",
       "      <td>Apartment Spends</td>\n",
       "      <td>Services</td>\n",
       "      <td>24</td>\n",
       "      <td>201912.0</td>\n",
       "      <td>0.0</td>\n",
       "    </tr>\n",
       "    <tr>\n",
       "      <th>143</th>\n",
       "      <td>Apartment Spends</td>\n",
       "      <td>Services</td>\n",
       "      <td>24</td>\n",
       "      <td>202001.0</td>\n",
       "      <td>0.0</td>\n",
       "    </tr>\n",
       "    <tr>\n",
       "      <th>144</th>\n",
       "      <td>Apartment Spends</td>\n",
       "      <td>Other</td>\n",
       "      <td>25</td>\n",
       "      <td>201908.0</td>\n",
       "      <td>0.0</td>\n",
       "    </tr>\n",
       "    <tr>\n",
       "      <th>145</th>\n",
       "      <td>Apartment Spends</td>\n",
       "      <td>Other</td>\n",
       "      <td>25</td>\n",
       "      <td>201909.0</td>\n",
       "      <td>0.0</td>\n",
       "    </tr>\n",
       "    <tr>\n",
       "      <th>146</th>\n",
       "      <td>Apartment Spends</td>\n",
       "      <td>Other</td>\n",
       "      <td>25</td>\n",
       "      <td>201910.0</td>\n",
       "      <td>0.0</td>\n",
       "    </tr>\n",
       "    <tr>\n",
       "      <th>147</th>\n",
       "      <td>Apartment Spends</td>\n",
       "      <td>Other</td>\n",
       "      <td>25</td>\n",
       "      <td>201911.0</td>\n",
       "      <td>0.0</td>\n",
       "    </tr>\n",
       "    <tr>\n",
       "      <th>148</th>\n",
       "      <td>Apartment Spends</td>\n",
       "      <td>Other</td>\n",
       "      <td>25</td>\n",
       "      <td>201912.0</td>\n",
       "      <td>0.0</td>\n",
       "    </tr>\n",
       "    <tr>\n",
       "      <th>149</th>\n",
       "      <td>Apartment Spends</td>\n",
       "      <td>Other</td>\n",
       "      <td>25</td>\n",
       "      <td>202001.0</td>\n",
       "      <td>0.0</td>\n",
       "    </tr>\n",
       "    <tr>\n",
       "      <th>150</th>\n",
       "      <td>Removed From Savings</td>\n",
       "      <td>Trips</td>\n",
       "      <td>26</td>\n",
       "      <td>201908.0</td>\n",
       "      <td>0.0</td>\n",
       "    </tr>\n",
       "    <tr>\n",
       "      <th>151</th>\n",
       "      <td>Removed From Savings</td>\n",
       "      <td>Trips</td>\n",
       "      <td>26</td>\n",
       "      <td>201909.0</td>\n",
       "      <td>0.0</td>\n",
       "    </tr>\n",
       "    <tr>\n",
       "      <th>152</th>\n",
       "      <td>Removed From Savings</td>\n",
       "      <td>Trips</td>\n",
       "      <td>26</td>\n",
       "      <td>201910.0</td>\n",
       "      <td>0.0</td>\n",
       "    </tr>\n",
       "    <tr>\n",
       "      <th>153</th>\n",
       "      <td>Removed From Savings</td>\n",
       "      <td>Trips</td>\n",
       "      <td>26</td>\n",
       "      <td>201911.0</td>\n",
       "      <td>0.0</td>\n",
       "    </tr>\n",
       "    <tr>\n",
       "      <th>154</th>\n",
       "      <td>Removed From Savings</td>\n",
       "      <td>Trips</td>\n",
       "      <td>26</td>\n",
       "      <td>201912.0</td>\n",
       "      <td>0.0</td>\n",
       "    </tr>\n",
       "    <tr>\n",
       "      <th>155</th>\n",
       "      <td>Removed From Savings</td>\n",
       "      <td>Trips</td>\n",
       "      <td>26</td>\n",
       "      <td>202001.0</td>\n",
       "      <td>0.0</td>\n",
       "    </tr>\n",
       "    <tr>\n",
       "      <th>156</th>\n",
       "      <td>Removed From Savings</td>\n",
       "      <td>Other</td>\n",
       "      <td>27</td>\n",
       "      <td>201908.0</td>\n",
       "      <td>0.0</td>\n",
       "    </tr>\n",
       "    <tr>\n",
       "      <th>157</th>\n",
       "      <td>Removed From Savings</td>\n",
       "      <td>Other</td>\n",
       "      <td>27</td>\n",
       "      <td>201909.0</td>\n",
       "      <td>0.0</td>\n",
       "    </tr>\n",
       "    <tr>\n",
       "      <th>158</th>\n",
       "      <td>Removed From Savings</td>\n",
       "      <td>Other</td>\n",
       "      <td>27</td>\n",
       "      <td>201910.0</td>\n",
       "      <td>0.0</td>\n",
       "    </tr>\n",
       "    <tr>\n",
       "      <th>159</th>\n",
       "      <td>Removed From Savings</td>\n",
       "      <td>Other</td>\n",
       "      <td>27</td>\n",
       "      <td>201911.0</td>\n",
       "      <td>0.0</td>\n",
       "    </tr>\n",
       "    <tr>\n",
       "      <th>160</th>\n",
       "      <td>Removed From Savings</td>\n",
       "      <td>Other</td>\n",
       "      <td>27</td>\n",
       "      <td>201912.0</td>\n",
       "      <td>0.0</td>\n",
       "    </tr>\n",
       "    <tr>\n",
       "      <th>161</th>\n",
       "      <td>Removed From Savings</td>\n",
       "      <td>Other</td>\n",
       "      <td>27</td>\n",
       "      <td>202001.0</td>\n",
       "      <td>0.0</td>\n",
       "    </tr>\n",
       "  </tbody>\n",
       "</table>\n",
       "<p>162 rows × 5 columns</p>\n",
       "</div>"
      ],
      "text/plain": [
       "                 Category             Sub Category  range  Payment Month  \\\n",
       "0                    Food             Super Market      1       201908.0   \n",
       "1                    Food             Super Market      1       201909.0   \n",
       "2                    Food             Super Market      1       201910.0   \n",
       "3                    Food             Super Market      1       201911.0   \n",
       "4                    Food             Super Market      1       201912.0   \n",
       "5                    Food             Super Market      1       202001.0   \n",
       "6                    Food              Restaurants      2       201908.0   \n",
       "7                    Food              Restaurants      2       201909.0   \n",
       "8                    Food              Restaurants      2       201910.0   \n",
       "9                    Food              Restaurants      2       201911.0   \n",
       "10                   Food              Restaurants      2       201912.0   \n",
       "11                   Food              Restaurants      2       202001.0   \n",
       "12                   Food    Take-out and bingeing      3       201908.0   \n",
       "13                   Food    Take-out and bingeing      3       201909.0   \n",
       "14                   Food    Take-out and bingeing      3       201910.0   \n",
       "15                   Food    Take-out and bingeing      3       201911.0   \n",
       "16                   Food    Take-out and bingeing      3       201912.0   \n",
       "17                   Food    Take-out and bingeing      3       202001.0   \n",
       "18                   Food                    Coffe      4       201908.0   \n",
       "19                   Food                    Coffe      4       201909.0   \n",
       "20                   Food                    Coffe      4       201910.0   \n",
       "21                   Food                    Coffe      4       201911.0   \n",
       "22                   Food                    Coffe      4       201912.0   \n",
       "23                   Food                    Coffe      4       202001.0   \n",
       "24                   Food                    Other      5       201908.0   \n",
       "25                   Food                    Other      5       201909.0   \n",
       "26                   Food                    Other      5       201910.0   \n",
       "27                   Food                    Other      5       201911.0   \n",
       "28                   Food                    Other      5       201912.0   \n",
       "29                   Food                    Other      5       202001.0   \n",
       "..                    ...                      ...    ...            ...   \n",
       "132      Apartment Spends  Stuff for the Apartment     23       201908.0   \n",
       "133      Apartment Spends  Stuff for the Apartment     23       201909.0   \n",
       "134      Apartment Spends  Stuff for the Apartment     23       201910.0   \n",
       "135      Apartment Spends  Stuff for the Apartment     23       201911.0   \n",
       "136      Apartment Spends  Stuff for the Apartment     23       201912.0   \n",
       "137      Apartment Spends  Stuff for the Apartment     23       202001.0   \n",
       "138      Apartment Spends                 Services     24       201908.0   \n",
       "139      Apartment Spends                 Services     24       201909.0   \n",
       "140      Apartment Spends                 Services     24       201910.0   \n",
       "141      Apartment Spends                 Services     24       201911.0   \n",
       "142      Apartment Spends                 Services     24       201912.0   \n",
       "143      Apartment Spends                 Services     24       202001.0   \n",
       "144      Apartment Spends                    Other     25       201908.0   \n",
       "145      Apartment Spends                    Other     25       201909.0   \n",
       "146      Apartment Spends                    Other     25       201910.0   \n",
       "147      Apartment Spends                    Other     25       201911.0   \n",
       "148      Apartment Spends                    Other     25       201912.0   \n",
       "149      Apartment Spends                    Other     25       202001.0   \n",
       "150  Removed From Savings                    Trips     26       201908.0   \n",
       "151  Removed From Savings                    Trips     26       201909.0   \n",
       "152  Removed From Savings                    Trips     26       201910.0   \n",
       "153  Removed From Savings                    Trips     26       201911.0   \n",
       "154  Removed From Savings                    Trips     26       201912.0   \n",
       "155  Removed From Savings                    Trips     26       202001.0   \n",
       "156  Removed From Savings                    Other     27       201908.0   \n",
       "157  Removed From Savings                    Other     27       201909.0   \n",
       "158  Removed From Savings                    Other     27       201910.0   \n",
       "159  Removed From Savings                    Other     27       201911.0   \n",
       "160  Removed From Savings                    Other     27       201912.0   \n",
       "161  Removed From Savings                    Other     27       202001.0   \n",
       "\n",
       "     Amount $  \n",
       "0         0.0  \n",
       "1         0.0  \n",
       "2         0.0  \n",
       "3         0.0  \n",
       "4         0.0  \n",
       "5         0.0  \n",
       "6       267.0  \n",
       "7         0.0  \n",
       "8         0.0  \n",
       "9         0.0  \n",
       "10        0.0  \n",
       "11        0.0  \n",
       "12        0.0  \n",
       "13        0.0  \n",
       "14        0.0  \n",
       "15        0.0  \n",
       "16        0.0  \n",
       "17        0.0  \n",
       "18        0.0  \n",
       "19        0.0  \n",
       "20        0.0  \n",
       "21        0.0  \n",
       "22        0.0  \n",
       "23        0.0  \n",
       "24        0.0  \n",
       "25        0.0  \n",
       "26        0.0  \n",
       "27        0.0  \n",
       "28        0.0  \n",
       "29        0.0  \n",
       "..        ...  \n",
       "132       0.0  \n",
       "133       0.0  \n",
       "134       0.0  \n",
       "135       0.0  \n",
       "136       0.0  \n",
       "137       0.0  \n",
       "138       0.0  \n",
       "139       0.0  \n",
       "140       0.0  \n",
       "141       0.0  \n",
       "142       0.0  \n",
       "143       0.0  \n",
       "144       0.0  \n",
       "145       0.0  \n",
       "146       0.0  \n",
       "147       0.0  \n",
       "148       0.0  \n",
       "149       0.0  \n",
       "150       0.0  \n",
       "151       0.0  \n",
       "152       0.0  \n",
       "153       0.0  \n",
       "154       0.0  \n",
       "155       0.0  \n",
       "156       0.0  \n",
       "157       0.0  \n",
       "158       0.0  \n",
       "159       0.0  \n",
       "160       0.0  \n",
       "161       0.0  \n",
       "\n",
       "[162 rows x 5 columns]"
      ]
     },
     "execution_count": 88,
     "metadata": {},
     "output_type": "execute_result"
    }
   ],
   "source": [
    "pivoted_to_write_on_gsheet"
   ]
  },
  {
   "cell_type": "code",
   "execution_count": 89,
   "metadata": {},
   "outputs": [],
   "source": [
    "pivoted_to_write_on_gsheet = pivoted_to_write_on_gsheet.loc[\n",
    "    :,\n",
    "    ['range', 'Category', 'Sub Category', 'Payment Month', 'Amount $']\n",
    "]"
   ]
  },
  {
   "cell_type": "code",
   "execution_count": 90,
   "metadata": {},
   "outputs": [],
   "source": [
    "cols = np.array(pivoted_to_write_on_gsheet.columns)\n",
    "\n",
    "cols_values = cols.tolist()\n",
    "\n",
    "values_arr = pivoted_to_write_on_gsheet.values#.tolist()\n",
    "\n",
    "list_of_rows = np.insert(values_arr, 0, cols_values, 0)"
   ]
  },
  {
   "cell_type": "code",
   "execution_count": 91,
   "metadata": {},
   "outputs": [
    {
     "name": "stdout",
     "output_type": "stream",
     "text": [
      "815 cells updated.\n"
     ]
    }
   ],
   "source": [
    "data = [\n",
    "    {\n",
    "        'range': 'monthly data!B2',\n",
    "        'values': list_of_rows.tolist()\n",
    "    }\n",
    "]\n",
    "body = {\n",
    "    'valueInputOption': 'RAW',\n",
    "    'data': data\n",
    "}\n",
    "result = service.spreadsheets().values().batchUpdate(\n",
    "    spreadsheetId='14a36tesQZ2AH0aIEdG5Ch2F8iVyrnXCvlxeASLX47N4', body=body).execute()\n",
    "print('{0} cells updated.'.format(result.get('totalUpdatedCells')))"
   ]
  },
  {
   "cell_type": "code",
   "execution_count": 13,
   "metadata": {},
   "outputs": [
    {
     "data": {
      "text/html": [
       "<div>\n",
       "<style scoped>\n",
       "    .dataframe tbody tr th:only-of-type {\n",
       "        vertical-align: middle;\n",
       "    }\n",
       "\n",
       "    .dataframe tbody tr th {\n",
       "        vertical-align: top;\n",
       "    }\n",
       "\n",
       "    .dataframe thead th {\n",
       "        text-align: right;\n",
       "    }\n",
       "</style>\n",
       "<table border=\"1\" class=\"dataframe\">\n",
       "  <thead>\n",
       "    <tr style=\"text-align: right;\">\n",
       "      <th></th>\n",
       "      <th></th>\n",
       "      <th></th>\n",
       "      <th>Amount $</th>\n",
       "    </tr>\n",
       "    <tr>\n",
       "      <th>Payment Fortnight</th>\n",
       "      <th>Category</th>\n",
       "      <th>Sub Category</th>\n",
       "      <th></th>\n",
       "    </tr>\n",
       "  </thead>\n",
       "  <tbody>\n",
       "    <tr>\n",
       "      <th rowspan=\"2\" valign=\"top\">2019-08-15</th>\n",
       "      <th>Food</th>\n",
       "      <th>Restaurants</th>\n",
       "      <td>267.000000</td>\n",
       "    </tr>\n",
       "    <tr>\n",
       "      <th>Personal Stuff</th>\n",
       "      <th>Stuff for me</th>\n",
       "      <td>633.000000</td>\n",
       "    </tr>\n",
       "    <tr>\n",
       "      <th>2019-08-30</th>\n",
       "      <th>Personal Stuff</th>\n",
       "      <th>Stuff for me</th>\n",
       "      <td>625.166667</td>\n",
       "    </tr>\n",
       "    <tr>\n",
       "      <th>2019-09-15</th>\n",
       "      <th>Personal Stuff</th>\n",
       "      <th>Stuff for me</th>\n",
       "      <td>633.000000</td>\n",
       "    </tr>\n",
       "    <tr>\n",
       "      <th>2019-09-30</th>\n",
       "      <th>Personal Stuff</th>\n",
       "      <th>Stuff for me</th>\n",
       "      <td>625.166667</td>\n",
       "    </tr>\n",
       "    <tr>\n",
       "      <th>2019-10-15</th>\n",
       "      <th>Personal Stuff</th>\n",
       "      <th>Stuff for me</th>\n",
       "      <td>633.000000</td>\n",
       "    </tr>\n",
       "    <tr>\n",
       "      <th>2019-10-30</th>\n",
       "      <th>Personal Stuff</th>\n",
       "      <th>Stuff for me</th>\n",
       "      <td>625.166667</td>\n",
       "    </tr>\n",
       "    <tr>\n",
       "      <th>2019-11-15</th>\n",
       "      <th>Personal Stuff</th>\n",
       "      <th>Stuff for me</th>\n",
       "      <td>633.000000</td>\n",
       "    </tr>\n",
       "    <tr>\n",
       "      <th>2019-11-30</th>\n",
       "      <th>Personal Stuff</th>\n",
       "      <th>Stuff for me</th>\n",
       "      <td>625.166667</td>\n",
       "    </tr>\n",
       "    <tr>\n",
       "      <th>2019-12-15</th>\n",
       "      <th>Personal Stuff</th>\n",
       "      <th>Stuff for me</th>\n",
       "      <td>633.000000</td>\n",
       "    </tr>\n",
       "    <tr>\n",
       "      <th>2019-12-30</th>\n",
       "      <th>Personal Stuff</th>\n",
       "      <th>Stuff for me</th>\n",
       "      <td>625.166667</td>\n",
       "    </tr>\n",
       "    <tr>\n",
       "      <th>2020-01-15</th>\n",
       "      <th>Personal Stuff</th>\n",
       "      <th>Stuff for me</th>\n",
       "      <td>633.000000</td>\n",
       "    </tr>\n",
       "    <tr>\n",
       "      <th>2020-01-30</th>\n",
       "      <th>Personal Stuff</th>\n",
       "      <th>Stuff for me</th>\n",
       "      <td>625.166667</td>\n",
       "    </tr>\n",
       "  </tbody>\n",
       "</table>\n",
       "</div>"
      ],
      "text/plain": [
       "                                                 Amount $\n",
       "Payment Fortnight Category       Sub Category            \n",
       "2019-08-15        Food           Restaurants   267.000000\n",
       "                  Personal Stuff Stuff for me  633.000000\n",
       "2019-08-30        Personal Stuff Stuff for me  625.166667\n",
       "2019-09-15        Personal Stuff Stuff for me  633.000000\n",
       "2019-09-30        Personal Stuff Stuff for me  625.166667\n",
       "2019-10-15        Personal Stuff Stuff for me  633.000000\n",
       "2019-10-30        Personal Stuff Stuff for me  625.166667\n",
       "2019-11-15        Personal Stuff Stuff for me  633.000000\n",
       "2019-11-30        Personal Stuff Stuff for me  625.166667\n",
       "2019-12-15        Personal Stuff Stuff for me  633.000000\n",
       "2019-12-30        Personal Stuff Stuff for me  625.166667\n",
       "2020-01-15        Personal Stuff Stuff for me  633.000000\n",
       "2020-01-30        Personal Stuff Stuff for me  625.166667"
      ]
     },
     "execution_count": 13,
     "metadata": {},
     "output_type": "execute_result"
    }
   ],
   "source": [
    "monthly_data#.unstack(0)"
   ]
  },
  {
   "cell_type": "code",
   "execution_count": 55,
   "metadata": {},
   "outputs": [
    {
     "data": {
      "text/plain": [
       "(2, 12)"
      ]
     },
     "execution_count": 55,
     "metadata": {},
     "output_type": "execute_result"
    }
   ],
   "source": [
    "monthly_data.unstack(0).shape"
   ]
  },
  {
   "cell_type": "code",
   "execution_count": 58,
   "metadata": {},
   "outputs": [
    {
     "data": {
      "text/plain": [
       "'L'"
      ]
     },
     "execution_count": 58,
     "metadata": {},
     "output_type": "execute_result"
    }
   ],
   "source": [
    "numberToLetters(12)"
   ]
  },
  {
   "cell_type": "code",
   "execution_count": null,
   "metadata": {},
   "outputs": [],
   "source": [
    "rows_range = "
   ]
  },
  {
   "cell_type": "code",
   "execution_count": 39,
   "metadata": {},
   "outputs": [],
   "source": [
    "dates = np.array(monthly_data.unstack(0).columns.levels[1])\n",
    "\n",
    "cols_values = np.array(['category', 'sub_category']+dates.astype(str).tolist())\n",
    "\n",
    "values_arr = monthly_data.unstack(0).fillna(0).reset_index().values#.tolist()\n",
    "\n",
    "list_of_rows = np.insert(values_arr, 0, cols_values, 0)"
   ]
  },
  {
   "cell_type": "code",
   "execution_count": 59,
   "metadata": {},
   "outputs": [
    {
     "data": {
      "text/plain": [
       "(3, 14)"
      ]
     },
     "execution_count": 59,
     "metadata": {},
     "output_type": "execute_result"
    }
   ],
   "source": [
    "list_of_rows.shape"
   ]
  },
  {
   "cell_type": "code",
   "execution_count": 71,
   "metadata": {},
   "outputs": [],
   "source": [
    "start_from = 'biweekly pivot!B2'"
   ]
  },
  {
   "cell_type": "code",
   "execution_count": 66,
   "metadata": {},
   "outputs": [
    {
     "data": {
      "text/plain": [
       "'B2:N3'"
      ]
     },
     "execution_count": 66,
     "metadata": {},
     "output_type": "execute_result"
    }
   ],
   "source": [
    "table_range"
   ]
  },
  {
   "cell_type": "code",
   "execution_count": 72,
   "metadata": {},
   "outputs": [
    {
     "name": "stdout",
     "output_type": "stream",
     "text": [
      "42 cells updated.\n"
     ]
    }
   ],
   "source": [
    "data = [\n",
    "    {\n",
    "        'range': start_from,\n",
    "        'values': list_of_rows.tolist()\n",
    "    }\n",
    "]\n",
    "body = {\n",
    "    'valueInputOption': 'RAW',\n",
    "    'data': data\n",
    "}\n",
    "result = service.spreadsheets().values().batchUpdate(\n",
    "    spreadsheetId='14a36tesQZ2AH0aIEdG5Ch2F8iVyrnXCvlxeASLX47N4', body=body).execute()\n",
    "print('{0} cells updated.'.format(result.get('totalUpdatedCells')))"
   ]
  },
  {
   "cell_type": "code",
   "execution_count": 9,
   "metadata": {},
   "outputs": [
    {
     "data": {
      "text/plain": [
       "[['Food',\n",
       "  'Restaurants',\n",
       "  267.0,\n",
       "  0.0,\n",
       "  0.0,\n",
       "  0.0,\n",
       "  0.0,\n",
       "  0.0,\n",
       "  0.0,\n",
       "  0.0,\n",
       "  0.0,\n",
       "  0.0,\n",
       "  0.0,\n",
       "  0.0],\n",
       " ['Personal Stuff',\n",
       "  'Stuff for me',\n",
       "  633.0,\n",
       "  625.1666666666666,\n",
       "  633.0,\n",
       "  625.1666666666666,\n",
       "  633.0,\n",
       "  625.1666666666666,\n",
       "  633.0,\n",
       "  625.1666666666666,\n",
       "  633.0,\n",
       "  625.1666666666666,\n",
       "  633.0,\n",
       "  625.1666666666666]]"
      ]
     },
     "execution_count": 9,
     "metadata": {},
     "output_type": "execute_result"
    }
   ],
   "source": [
    "list_of_rows"
   ]
  },
  {
   "cell_type": "code",
   "execution_count": null,
   "metadata": {},
   "outputs": [],
   "source": []
  }
 ],
 "metadata": {
  "kernelspec": {
   "display_name": "Python 3",
   "language": "python",
   "name": "python3"
  },
  "language_info": {
   "codemirror_mode": {
    "name": "ipython",
    "version": 3
   },
   "file_extension": ".py",
   "mimetype": "text/x-python",
   "name": "python",
   "nbconvert_exporter": "python",
   "pygments_lexer": "ipython3",
   "version": "3.7.5"
  },
  "toc": {
   "base_numbering": 1,
   "nav_menu": {},
   "number_sections": true,
   "sideBar": true,
   "skip_h1_title": false,
   "title_cell": "Table of Contents",
   "title_sidebar": "Contents",
   "toc_cell": false,
   "toc_position": {},
   "toc_section_display": true,
   "toc_window_display": false
  },
  "varInspector": {
   "cols": {
    "lenName": 16,
    "lenType": 16,
    "lenVar": 40
   },
   "kernels_config": {
    "python": {
     "delete_cmd_postfix": "",
     "delete_cmd_prefix": "del ",
     "library": "var_list.py",
     "varRefreshCmd": "print(var_dic_list())"
    },
    "r": {
     "delete_cmd_postfix": ") ",
     "delete_cmd_prefix": "rm(",
     "library": "var_list.r",
     "varRefreshCmd": "cat(var_dic_list()) "
    }
   },
   "types_to_exclude": [
    "module",
    "function",
    "builtin_function_or_method",
    "instance",
    "_Feature"
   ],
   "window_display": false
  }
 },
 "nbformat": 4,
 "nbformat_minor": 2
}
