{
 "cells": [
  {
   "cell_type": "code",
   "execution_count": 1,
   "metadata": {},
   "outputs": [],
   "source": [
    "import pandas as pd\n",
    "import datetime\n",
    "from gsheets_connect import GoogleSheets, Connect"
   ]
  },
  {
   "cell_type": "code",
   "execution_count": 2,
   "metadata": {},
   "outputs": [],
   "source": [
    "conn = Connect(service='google_sheets')"
   ]
  },
  {
   "cell_type": "code",
   "execution_count": 3,
   "metadata": {},
   "outputs": [
    {
     "data": {
      "text/plain": [
       "<googleapiclient.discovery.Resource at 0x1109ac390>"
      ]
     },
     "execution_count": 3,
     "metadata": {},
     "output_type": "execute_result"
    }
   ],
   "source": [
    "conn.get_service()"
   ]
  },
  {
   "cell_type": "code",
   "execution_count": 4,
   "metadata": {},
   "outputs": [],
   "source": [
    "gsheet = GoogleSheets()"
   ]
  },
  {
   "cell_type": "code",
   "execution_count": 5,
   "metadata": {},
   "outputs": [],
   "source": [
    "service = gsheet.service"
   ]
  },
  {
   "cell_type": "code",
   "execution_count": 51,
   "metadata": {},
   "outputs": [],
   "source": [
    "def numberToLetters(q):\n",
    "    q = q - 1\n",
    "    result = ''\n",
    "    while q >= 0:\n",
    "        remain = q % 26\n",
    "        result = chr(remain+65) + result;\n",
    "        q = q//26 - 1\n",
    "    return result"
   ]
  },
  {
   "cell_type": "code",
   "execution_count": null,
   "metadata": {},
   "outputs": [],
   "source": []
  },
  {
   "cell_type": "code",
   "execution_count": 84,
   "metadata": {},
   "outputs": [],
   "source": [
    "cur_data = pd.read_csv(r'daily_data.txt', sep=' ')\n",
    "\n",
    "#cur_data['Payment Day'] = pd.to_datetime(cur_data['Payment Day']).dt.date\n",
    "\n",
    "cur_data['Payment Fortnight'] = cur_data['Payment Day'].apply(\n",
    "    lambda date: str(pd.to_datetime(date).replace(day=15 if pd.to_datetime(date).day <= 15 else 30).date())\n",
    ")"
   ]
  },
  {
   "cell_type": "code",
   "execution_count": 85,
   "metadata": {
    "scrolled": true
   },
   "outputs": [
    {
     "data": {
      "text/html": [
       "<div>\n",
       "<style scoped>\n",
       "    .dataframe tbody tr th:only-of-type {\n",
       "        vertical-align: middle;\n",
       "    }\n",
       "\n",
       "    .dataframe tbody tr th {\n",
       "        vertical-align: top;\n",
       "    }\n",
       "\n",
       "    .dataframe thead th {\n",
       "        text-align: right;\n",
       "    }\n",
       "</style>\n",
       "<table border=\"1\" class=\"dataframe\">\n",
       "  <thead>\n",
       "    <tr style=\"text-align: right;\">\n",
       "      <th></th>\n",
       "      <th>Amount $</th>\n",
       "      <th>Expense Day</th>\n",
       "      <th>Expense Month</th>\n",
       "      <th>Payment Day</th>\n",
       "      <th>Payment Month</th>\n",
       "      <th>Installments</th>\n",
       "      <th>Payment Method</th>\n",
       "      <th>Method Name</th>\n",
       "      <th>Category</th>\n",
       "      <th>Sub Category</th>\n",
       "      <th>Payment Fortnight</th>\n",
       "    </tr>\n",
       "  </thead>\n",
       "  <tbody>\n",
       "    <tr>\n",
       "      <th>0</th>\n",
       "      <td>267.000000</td>\n",
       "      <td>2019-08-01</td>\n",
       "      <td>201908.0</td>\n",
       "      <td>2019-08-01</td>\n",
       "      <td>201908.0</td>\n",
       "      <td>1.0</td>\n",
       "      <td>debit</td>\n",
       "      <td>debit</td>\n",
       "      <td>Food</td>\n",
       "      <td>Restaurants</td>\n",
       "      <td>2019-08-15</td>\n",
       "    </tr>\n",
       "    <tr>\n",
       "      <th>1</th>\n",
       "      <td>633.000000</td>\n",
       "      <td>2019-08-12</td>\n",
       "      <td>201908.0</td>\n",
       "      <td>2019-08-15</td>\n",
       "      <td>201908.0</td>\n",
       "      <td>1.0</td>\n",
       "      <td>credit</td>\n",
       "      <td>Santander-Free</td>\n",
       "      <td>Personal Stuff</td>\n",
       "      <td>Stuff for me</td>\n",
       "      <td>2019-08-15</td>\n",
       "    </tr>\n",
       "    <tr>\n",
       "      <th>2</th>\n",
       "      <td>633.000000</td>\n",
       "      <td>2019-08-12</td>\n",
       "      <td>201908.0</td>\n",
       "      <td>2019-09-15</td>\n",
       "      <td>201909.0</td>\n",
       "      <td>1.0</td>\n",
       "      <td>credit</td>\n",
       "      <td>Santander-Free</td>\n",
       "      <td>Personal Stuff</td>\n",
       "      <td>Stuff for me</td>\n",
       "      <td>2019-09-15</td>\n",
       "    </tr>\n",
       "    <tr>\n",
       "      <th>3</th>\n",
       "      <td>633.000000</td>\n",
       "      <td>2019-08-12</td>\n",
       "      <td>201908.0</td>\n",
       "      <td>2019-10-15</td>\n",
       "      <td>201910.0</td>\n",
       "      <td>1.0</td>\n",
       "      <td>credit</td>\n",
       "      <td>Santander-Free</td>\n",
       "      <td>Personal Stuff</td>\n",
       "      <td>Stuff for me</td>\n",
       "      <td>2019-10-15</td>\n",
       "    </tr>\n",
       "    <tr>\n",
       "      <th>4</th>\n",
       "      <td>633.000000</td>\n",
       "      <td>2019-08-12</td>\n",
       "      <td>201908.0</td>\n",
       "      <td>2019-11-15</td>\n",
       "      <td>201911.0</td>\n",
       "      <td>1.0</td>\n",
       "      <td>credit</td>\n",
       "      <td>Santander-Free</td>\n",
       "      <td>Personal Stuff</td>\n",
       "      <td>Stuff for me</td>\n",
       "      <td>2019-11-15</td>\n",
       "    </tr>\n",
       "    <tr>\n",
       "      <th>5</th>\n",
       "      <td>633.000000</td>\n",
       "      <td>2019-08-12</td>\n",
       "      <td>201908.0</td>\n",
       "      <td>2019-12-15</td>\n",
       "      <td>201912.0</td>\n",
       "      <td>1.0</td>\n",
       "      <td>credit</td>\n",
       "      <td>Santander-Free</td>\n",
       "      <td>Personal Stuff</td>\n",
       "      <td>Stuff for me</td>\n",
       "      <td>2019-12-15</td>\n",
       "    </tr>\n",
       "    <tr>\n",
       "      <th>6</th>\n",
       "      <td>633.000000</td>\n",
       "      <td>2019-08-12</td>\n",
       "      <td>201908.0</td>\n",
       "      <td>2020-01-15</td>\n",
       "      <td>202001.0</td>\n",
       "      <td>1.0</td>\n",
       "      <td>credit</td>\n",
       "      <td>Santander-Free</td>\n",
       "      <td>Personal Stuff</td>\n",
       "      <td>Stuff for me</td>\n",
       "      <td>2020-01-15</td>\n",
       "    </tr>\n",
       "    <tr>\n",
       "      <th>7</th>\n",
       "      <td>625.166667</td>\n",
       "      <td>2019-08-14</td>\n",
       "      <td>201908.0</td>\n",
       "      <td>2019-08-30</td>\n",
       "      <td>201908.0</td>\n",
       "      <td>1.0</td>\n",
       "      <td>credit</td>\n",
       "      <td>Bancomer-Platinum</td>\n",
       "      <td>Personal Stuff</td>\n",
       "      <td>Stuff for me</td>\n",
       "      <td>2019-08-30</td>\n",
       "    </tr>\n",
       "    <tr>\n",
       "      <th>8</th>\n",
       "      <td>625.166667</td>\n",
       "      <td>2019-08-14</td>\n",
       "      <td>201908.0</td>\n",
       "      <td>2019-09-30</td>\n",
       "      <td>201909.0</td>\n",
       "      <td>1.0</td>\n",
       "      <td>credit</td>\n",
       "      <td>Bancomer-Platinum</td>\n",
       "      <td>Personal Stuff</td>\n",
       "      <td>Stuff for me</td>\n",
       "      <td>2019-09-30</td>\n",
       "    </tr>\n",
       "    <tr>\n",
       "      <th>9</th>\n",
       "      <td>625.166667</td>\n",
       "      <td>2019-08-14</td>\n",
       "      <td>201908.0</td>\n",
       "      <td>2019-10-30</td>\n",
       "      <td>201910.0</td>\n",
       "      <td>1.0</td>\n",
       "      <td>credit</td>\n",
       "      <td>Bancomer-Platinum</td>\n",
       "      <td>Personal Stuff</td>\n",
       "      <td>Stuff for me</td>\n",
       "      <td>2019-10-30</td>\n",
       "    </tr>\n",
       "    <tr>\n",
       "      <th>10</th>\n",
       "      <td>625.166667</td>\n",
       "      <td>2019-08-14</td>\n",
       "      <td>201908.0</td>\n",
       "      <td>2019-11-30</td>\n",
       "      <td>201911.0</td>\n",
       "      <td>1.0</td>\n",
       "      <td>credit</td>\n",
       "      <td>Bancomer-Platinum</td>\n",
       "      <td>Personal Stuff</td>\n",
       "      <td>Stuff for me</td>\n",
       "      <td>2019-11-30</td>\n",
       "    </tr>\n",
       "    <tr>\n",
       "      <th>11</th>\n",
       "      <td>625.166667</td>\n",
       "      <td>2019-08-14</td>\n",
       "      <td>201908.0</td>\n",
       "      <td>2019-12-30</td>\n",
       "      <td>201912.0</td>\n",
       "      <td>1.0</td>\n",
       "      <td>credit</td>\n",
       "      <td>Bancomer-Platinum</td>\n",
       "      <td>Personal Stuff</td>\n",
       "      <td>Stuff for me</td>\n",
       "      <td>2019-12-30</td>\n",
       "    </tr>\n",
       "    <tr>\n",
       "      <th>12</th>\n",
       "      <td>625.166667</td>\n",
       "      <td>2019-08-14</td>\n",
       "      <td>201908.0</td>\n",
       "      <td>2020-01-30</td>\n",
       "      <td>202001.0</td>\n",
       "      <td>1.0</td>\n",
       "      <td>credit</td>\n",
       "      <td>Bancomer-Platinum</td>\n",
       "      <td>Personal Stuff</td>\n",
       "      <td>Stuff for me</td>\n",
       "      <td>2020-01-30</td>\n",
       "    </tr>\n",
       "  </tbody>\n",
       "</table>\n",
       "</div>"
      ],
      "text/plain": [
       "      Amount $ Expense Day  Expense Month Payment Day  Payment Month  \\\n",
       "0   267.000000  2019-08-01       201908.0  2019-08-01       201908.0   \n",
       "1   633.000000  2019-08-12       201908.0  2019-08-15       201908.0   \n",
       "2   633.000000  2019-08-12       201908.0  2019-09-15       201909.0   \n",
       "3   633.000000  2019-08-12       201908.0  2019-10-15       201910.0   \n",
       "4   633.000000  2019-08-12       201908.0  2019-11-15       201911.0   \n",
       "5   633.000000  2019-08-12       201908.0  2019-12-15       201912.0   \n",
       "6   633.000000  2019-08-12       201908.0  2020-01-15       202001.0   \n",
       "7   625.166667  2019-08-14       201908.0  2019-08-30       201908.0   \n",
       "8   625.166667  2019-08-14       201908.0  2019-09-30       201909.0   \n",
       "9   625.166667  2019-08-14       201908.0  2019-10-30       201910.0   \n",
       "10  625.166667  2019-08-14       201908.0  2019-11-30       201911.0   \n",
       "11  625.166667  2019-08-14       201908.0  2019-12-30       201912.0   \n",
       "12  625.166667  2019-08-14       201908.0  2020-01-30       202001.0   \n",
       "\n",
       "    Installments Payment Method        Method Name        Category  \\\n",
       "0            1.0          debit              debit            Food   \n",
       "1            1.0         credit     Santander-Free  Personal Stuff   \n",
       "2            1.0         credit     Santander-Free  Personal Stuff   \n",
       "3            1.0         credit     Santander-Free  Personal Stuff   \n",
       "4            1.0         credit     Santander-Free  Personal Stuff   \n",
       "5            1.0         credit     Santander-Free  Personal Stuff   \n",
       "6            1.0         credit     Santander-Free  Personal Stuff   \n",
       "7            1.0         credit  Bancomer-Platinum  Personal Stuff   \n",
       "8            1.0         credit  Bancomer-Platinum  Personal Stuff   \n",
       "9            1.0         credit  Bancomer-Platinum  Personal Stuff   \n",
       "10           1.0         credit  Bancomer-Platinum  Personal Stuff   \n",
       "11           1.0         credit  Bancomer-Platinum  Personal Stuff   \n",
       "12           1.0         credit  Bancomer-Platinum  Personal Stuff   \n",
       "\n",
       "    Sub Category Payment Fortnight  \n",
       "0    Restaurants        2019-08-15  \n",
       "1   Stuff for me        2019-08-15  \n",
       "2   Stuff for me        2019-09-15  \n",
       "3   Stuff for me        2019-10-15  \n",
       "4   Stuff for me        2019-11-15  \n",
       "5   Stuff for me        2019-12-15  \n",
       "6   Stuff for me        2020-01-15  \n",
       "7   Stuff for me        2019-08-30  \n",
       "8   Stuff for me        2019-09-30  \n",
       "9   Stuff for me        2019-10-30  \n",
       "10  Stuff for me        2019-11-30  \n",
       "11  Stuff for me        2019-12-30  \n",
       "12  Stuff for me        2020-01-30  "
      ]
     },
     "execution_count": 85,
     "metadata": {},
     "output_type": "execute_result"
    }
   ],
   "source": [
    "cur_data"
   ]
  },
  {
   "cell_type": "code",
   "execution_count": 86,
   "metadata": {},
   "outputs": [],
   "source": [
    "cols = np.array(cur_data.columns)\n",
    "\n",
    "cols_values = cols.tolist()\n",
    "\n",
    "values_arr = cur_data.values#.tolist()\n",
    "\n",
    "list_of_rows = np.insert(values_arr, 0, cols_values, 0)"
   ]
  },
  {
   "cell_type": "code",
   "execution_count": 87,
   "metadata": {
    "scrolled": true
   },
   "outputs": [
    {
     "data": {
      "text/plain": [
       "array([['Amount $', 'Expense Day', 'Expense Month', 'Payment Day',\n",
       "        'Payment Month', 'Installments', 'Payment Method', 'Method Name',\n",
       "        'Category', 'Sub Category', 'Payment Fortnight'],\n",
       "       [267.0, '2019-08-01', 201908.0, '2019-08-01', 201908.0, 1.0,\n",
       "        'debit', 'debit', 'Food', 'Restaurants', '2019-08-15'],\n",
       "       [633.0, '2019-08-12', 201908.0, '2019-08-15', 201908.0, 1.0,\n",
       "        'credit', 'Santander-Free', 'Personal Stuff', 'Stuff for me',\n",
       "        '2019-08-15'],\n",
       "       [633.0, '2019-08-12', 201908.0, '2019-09-15', 201909.0, 1.0,\n",
       "        'credit', 'Santander-Free', 'Personal Stuff', 'Stuff for me',\n",
       "        '2019-09-15'],\n",
       "       [633.0, '2019-08-12', 201908.0, '2019-10-15', 201910.0, 1.0,\n",
       "        'credit', 'Santander-Free', 'Personal Stuff', 'Stuff for me',\n",
       "        '2019-10-15'],\n",
       "       [633.0, '2019-08-12', 201908.0, '2019-11-15', 201911.0, 1.0,\n",
       "        'credit', 'Santander-Free', 'Personal Stuff', 'Stuff for me',\n",
       "        '2019-11-15'],\n",
       "       [633.0, '2019-08-12', 201908.0, '2019-12-15', 201912.0, 1.0,\n",
       "        'credit', 'Santander-Free', 'Personal Stuff', 'Stuff for me',\n",
       "        '2019-12-15'],\n",
       "       [633.0, '2019-08-12', 201908.0, '2020-01-15', 202001.0, 1.0,\n",
       "        'credit', 'Santander-Free', 'Personal Stuff', 'Stuff for me',\n",
       "        '2020-01-15'],\n",
       "       [625.1666666666666, '2019-08-14', 201908.0, '2019-08-30',\n",
       "        201908.0, 1.0, 'credit', 'Bancomer-Platinum', 'Personal Stuff',\n",
       "        'Stuff for me', '2019-08-30'],\n",
       "       [625.1666666666666, '2019-08-14', 201908.0, '2019-09-30',\n",
       "        201909.0, 1.0, 'credit', 'Bancomer-Platinum', 'Personal Stuff',\n",
       "        'Stuff for me', '2019-09-30'],\n",
       "       [625.1666666666666, '2019-08-14', 201908.0, '2019-10-30',\n",
       "        201910.0, 1.0, 'credit', 'Bancomer-Platinum', 'Personal Stuff',\n",
       "        'Stuff for me', '2019-10-30'],\n",
       "       [625.1666666666666, '2019-08-14', 201908.0, '2019-11-30',\n",
       "        201911.0, 1.0, 'credit', 'Bancomer-Platinum', 'Personal Stuff',\n",
       "        'Stuff for me', '2019-11-30'],\n",
       "       [625.1666666666666, '2019-08-14', 201908.0, '2019-12-30',\n",
       "        201912.0, 1.0, 'credit', 'Bancomer-Platinum', 'Personal Stuff',\n",
       "        'Stuff for me', '2019-12-30'],\n",
       "       [625.1666666666666, '2019-08-14', 201908.0, '2020-01-30',\n",
       "        202001.0, 1.0, 'credit', 'Bancomer-Platinum', 'Personal Stuff',\n",
       "        'Stuff for me', '2020-01-30']], dtype=object)"
      ]
     },
     "execution_count": 87,
     "metadata": {},
     "output_type": "execute_result"
    }
   ],
   "source": [
    "list_of_rows"
   ]
  },
  {
   "cell_type": "code",
   "execution_count": 88,
   "metadata": {},
   "outputs": [
    {
     "name": "stdout",
     "output_type": "stream",
     "text": [
      "154 cells updated.\n"
     ]
    }
   ],
   "source": [
    "data = [\n",
    "    {\n",
    "        'range': 'data!A1',\n",
    "        'values': list_of_rows.tolist()\n",
    "    }\n",
    "]\n",
    "body = {\n",
    "    'valueInputOption': 'RAW',\n",
    "    'data': data\n",
    "}\n",
    "result = service.spreadsheets().values().batchUpdate(\n",
    "    spreadsheetId='14a36tesQZ2AH0aIEdG5Ch2F8iVyrnXCvlxeASLX47N4', body=body).execute()\n",
    "print('{0} cells updated.'.format(result.get('totalUpdatedCells')))"
   ]
  },
  {
   "cell_type": "code",
   "execution_count": 7,
   "metadata": {
    "scrolled": true
   },
   "outputs": [],
   "source": [
    "monthly_data=cur_data.groupby(\n",
    "    ['Payment Fortnight','Category', 'Sub Category']\n",
    ").agg({'Amount $':'sum'})"
   ]
  },
  {
   "cell_type": "code",
   "execution_count": 89,
   "metadata": {},
   "outputs": [
    {
     "data": {
      "text/html": [
       "<div>\n",
       "<style scoped>\n",
       "    .dataframe tbody tr th:only-of-type {\n",
       "        vertical-align: middle;\n",
       "    }\n",
       "\n",
       "    .dataframe tbody tr th {\n",
       "        vertical-align: top;\n",
       "    }\n",
       "\n",
       "    .dataframe thead th {\n",
       "        text-align: right;\n",
       "    }\n",
       "</style>\n",
       "<table border=\"1\" class=\"dataframe\">\n",
       "  <thead>\n",
       "    <tr style=\"text-align: right;\">\n",
       "      <th></th>\n",
       "      <th></th>\n",
       "      <th></th>\n",
       "      <th>Amount $</th>\n",
       "    </tr>\n",
       "    <tr>\n",
       "      <th>Payment Fortnight</th>\n",
       "      <th>Category</th>\n",
       "      <th>Sub Category</th>\n",
       "      <th></th>\n",
       "    </tr>\n",
       "  </thead>\n",
       "  <tbody>\n",
       "    <tr>\n",
       "      <th rowspan=\"2\" valign=\"top\">2019-08-15</th>\n",
       "      <th>Food</th>\n",
       "      <th>Restaurants</th>\n",
       "      <td>267.000000</td>\n",
       "    </tr>\n",
       "    <tr>\n",
       "      <th>Personal Stuff</th>\n",
       "      <th>Stuff for me</th>\n",
       "      <td>633.000000</td>\n",
       "    </tr>\n",
       "    <tr>\n",
       "      <th>2019-08-30</th>\n",
       "      <th>Personal Stuff</th>\n",
       "      <th>Stuff for me</th>\n",
       "      <td>625.166667</td>\n",
       "    </tr>\n",
       "    <tr>\n",
       "      <th>2019-09-15</th>\n",
       "      <th>Personal Stuff</th>\n",
       "      <th>Stuff for me</th>\n",
       "      <td>633.000000</td>\n",
       "    </tr>\n",
       "    <tr>\n",
       "      <th>2019-09-30</th>\n",
       "      <th>Personal Stuff</th>\n",
       "      <th>Stuff for me</th>\n",
       "      <td>625.166667</td>\n",
       "    </tr>\n",
       "    <tr>\n",
       "      <th>2019-10-15</th>\n",
       "      <th>Personal Stuff</th>\n",
       "      <th>Stuff for me</th>\n",
       "      <td>633.000000</td>\n",
       "    </tr>\n",
       "    <tr>\n",
       "      <th>2019-10-30</th>\n",
       "      <th>Personal Stuff</th>\n",
       "      <th>Stuff for me</th>\n",
       "      <td>625.166667</td>\n",
       "    </tr>\n",
       "    <tr>\n",
       "      <th>2019-11-15</th>\n",
       "      <th>Personal Stuff</th>\n",
       "      <th>Stuff for me</th>\n",
       "      <td>633.000000</td>\n",
       "    </tr>\n",
       "    <tr>\n",
       "      <th>2019-11-30</th>\n",
       "      <th>Personal Stuff</th>\n",
       "      <th>Stuff for me</th>\n",
       "      <td>625.166667</td>\n",
       "    </tr>\n",
       "    <tr>\n",
       "      <th>2019-12-15</th>\n",
       "      <th>Personal Stuff</th>\n",
       "      <th>Stuff for me</th>\n",
       "      <td>633.000000</td>\n",
       "    </tr>\n",
       "    <tr>\n",
       "      <th>2019-12-30</th>\n",
       "      <th>Personal Stuff</th>\n",
       "      <th>Stuff for me</th>\n",
       "      <td>625.166667</td>\n",
       "    </tr>\n",
       "    <tr>\n",
       "      <th>2020-01-15</th>\n",
       "      <th>Personal Stuff</th>\n",
       "      <th>Stuff for me</th>\n",
       "      <td>633.000000</td>\n",
       "    </tr>\n",
       "    <tr>\n",
       "      <th>2020-01-30</th>\n",
       "      <th>Personal Stuff</th>\n",
       "      <th>Stuff for me</th>\n",
       "      <td>625.166667</td>\n",
       "    </tr>\n",
       "  </tbody>\n",
       "</table>\n",
       "</div>"
      ],
      "text/plain": [
       "                                                 Amount $\n",
       "Payment Fortnight Category       Sub Category            \n",
       "2019-08-15        Food           Restaurants   267.000000\n",
       "                  Personal Stuff Stuff for me  633.000000\n",
       "2019-08-30        Personal Stuff Stuff for me  625.166667\n",
       "2019-09-15        Personal Stuff Stuff for me  633.000000\n",
       "2019-09-30        Personal Stuff Stuff for me  625.166667\n",
       "2019-10-15        Personal Stuff Stuff for me  633.000000\n",
       "2019-10-30        Personal Stuff Stuff for me  625.166667\n",
       "2019-11-15        Personal Stuff Stuff for me  633.000000\n",
       "2019-11-30        Personal Stuff Stuff for me  625.166667\n",
       "2019-12-15        Personal Stuff Stuff for me  633.000000\n",
       "2019-12-30        Personal Stuff Stuff for me  625.166667\n",
       "2020-01-15        Personal Stuff Stuff for me  633.000000\n",
       "2020-01-30        Personal Stuff Stuff for me  625.166667"
      ]
     },
     "execution_count": 89,
     "metadata": {},
     "output_type": "execute_result"
    }
   ],
   "source": [
    "monthly_data#.unstack(0)"
   ]
  },
  {
   "cell_type": "code",
   "execution_count": 55,
   "metadata": {},
   "outputs": [
    {
     "data": {
      "text/plain": [
       "(2, 12)"
      ]
     },
     "execution_count": 55,
     "metadata": {},
     "output_type": "execute_result"
    }
   ],
   "source": [
    "monthly_data.unstack(0).shape"
   ]
  },
  {
   "cell_type": "code",
   "execution_count": 58,
   "metadata": {},
   "outputs": [
    {
     "data": {
      "text/plain": [
       "'L'"
      ]
     },
     "execution_count": 58,
     "metadata": {},
     "output_type": "execute_result"
    }
   ],
   "source": [
    "numberToLetters(12)"
   ]
  },
  {
   "cell_type": "code",
   "execution_count": null,
   "metadata": {},
   "outputs": [],
   "source": [
    "rows_range = "
   ]
  },
  {
   "cell_type": "code",
   "execution_count": 39,
   "metadata": {},
   "outputs": [],
   "source": [
    "dates = np.array(monthly_data.unstack(0).columns.levels[1])\n",
    "\n",
    "cols_values = np.array(['category', 'sub_category']+dates.astype(str).tolist())\n",
    "\n",
    "values_arr = monthly_data.unstack(0).fillna(0).reset_index().values#.tolist()\n",
    "\n",
    "list_of_rows = np.insert(values_arr, 0, cols_values, 0)"
   ]
  },
  {
   "cell_type": "code",
   "execution_count": 59,
   "metadata": {},
   "outputs": [
    {
     "data": {
      "text/plain": [
       "(3, 14)"
      ]
     },
     "execution_count": 59,
     "metadata": {},
     "output_type": "execute_result"
    }
   ],
   "source": [
    "list_of_rows.shape"
   ]
  },
  {
   "cell_type": "code",
   "execution_count": 71,
   "metadata": {},
   "outputs": [],
   "source": [
    "start_from = 'biweekly pivot!B2'"
   ]
  },
  {
   "cell_type": "code",
   "execution_count": 66,
   "metadata": {},
   "outputs": [
    {
     "data": {
      "text/plain": [
       "'B2:N3'"
      ]
     },
     "execution_count": 66,
     "metadata": {},
     "output_type": "execute_result"
    }
   ],
   "source": [
    "table_range"
   ]
  },
  {
   "cell_type": "code",
   "execution_count": 72,
   "metadata": {},
   "outputs": [
    {
     "name": "stdout",
     "output_type": "stream",
     "text": [
      "42 cells updated.\n"
     ]
    }
   ],
   "source": [
    "data = [\n",
    "    {\n",
    "        'range': start_from,\n",
    "        'values': list_of_rows.tolist()\n",
    "    }\n",
    "]\n",
    "body = {\n",
    "    'valueInputOption': 'RAW',\n",
    "    'data': data\n",
    "}\n",
    "result = service.spreadsheets().values().batchUpdate(\n",
    "    spreadsheetId='14a36tesQZ2AH0aIEdG5Ch2F8iVyrnXCvlxeASLX47N4', body=body).execute()\n",
    "print('{0} cells updated.'.format(result.get('totalUpdatedCells')))"
   ]
  },
  {
   "cell_type": "code",
   "execution_count": 9,
   "metadata": {},
   "outputs": [
    {
     "data": {
      "text/plain": [
       "[['Food',\n",
       "  'Restaurants',\n",
       "  267.0,\n",
       "  0.0,\n",
       "  0.0,\n",
       "  0.0,\n",
       "  0.0,\n",
       "  0.0,\n",
       "  0.0,\n",
       "  0.0,\n",
       "  0.0,\n",
       "  0.0,\n",
       "  0.0,\n",
       "  0.0],\n",
       " ['Personal Stuff',\n",
       "  'Stuff for me',\n",
       "  633.0,\n",
       "  625.1666666666666,\n",
       "  633.0,\n",
       "  625.1666666666666,\n",
       "  633.0,\n",
       "  625.1666666666666,\n",
       "  633.0,\n",
       "  625.1666666666666,\n",
       "  633.0,\n",
       "  625.1666666666666,\n",
       "  633.0,\n",
       "  625.1666666666666]]"
      ]
     },
     "execution_count": 9,
     "metadata": {},
     "output_type": "execute_result"
    }
   ],
   "source": [
    "list_of_rows"
   ]
  },
  {
   "cell_type": "code",
   "execution_count": null,
   "metadata": {},
   "outputs": [],
   "source": []
  }
 ],
 "metadata": {
  "kernelspec": {
   "display_name": "Python 3",
   "language": "python",
   "name": "python3"
  },
  "language_info": {
   "codemirror_mode": {
    "name": "ipython",
    "version": 3
   },
   "file_extension": ".py",
   "mimetype": "text/x-python",
   "name": "python",
   "nbconvert_exporter": "python",
   "pygments_lexer": "ipython3",
   "version": "3.7.3"
  },
  "toc": {
   "base_numbering": 1,
   "nav_menu": {},
   "number_sections": true,
   "sideBar": true,
   "skip_h1_title": false,
   "title_cell": "Table of Contents",
   "title_sidebar": "Contents",
   "toc_cell": false,
   "toc_position": {},
   "toc_section_display": true,
   "toc_window_display": false
  },
  "varInspector": {
   "cols": {
    "lenName": 16,
    "lenType": 16,
    "lenVar": 40
   },
   "kernels_config": {
    "python": {
     "delete_cmd_postfix": "",
     "delete_cmd_prefix": "del ",
     "library": "var_list.py",
     "varRefreshCmd": "print(var_dic_list())"
    },
    "r": {
     "delete_cmd_postfix": ") ",
     "delete_cmd_prefix": "rm(",
     "library": "var_list.r",
     "varRefreshCmd": "cat(var_dic_list()) "
    }
   },
   "types_to_exclude": [
    "module",
    "function",
    "builtin_function_or_method",
    "instance",
    "_Feature"
   ],
   "window_display": false
  }
 },
 "nbformat": 4,
 "nbformat_minor": 2
}
