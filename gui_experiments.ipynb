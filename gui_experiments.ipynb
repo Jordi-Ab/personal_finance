{
 "cells": [
  {
   "cell_type": "code",
   "execution_count": 1,
   "metadata": {},
   "outputs": [],
   "source": [
    "import os\n",
    "import helper_functions as hlp\n",
    "def get_available_files():\n",
    "    data_sources = []\n",
    "    cwd = os.getcwd()\n",
    "    files_path = os.path.join(cwd,\"input_data\")\n",
    "    dir_content = os.listdir(files_path)\n",
    "    for file_name in dir_content:\n",
    "        file_path = os.path.join(files_path, file_name)\n",
    "        if file_path.endswith('.xlsx') or file_path.endswith('.xls'):\n",
    "            data_sources.append(file_path)\n",
    "\n",
    "    return data_sources\n",
    "\n",
    "def list_files(files_list):\n",
    "    lst_str = \"\"\n",
    "    for i, obj in enumerate(files_list):\n",
    "        lst_str += '\\n'+str(i)+') '+obj.split('/')[-1]\n",
    "    return lst_str"
   ]
  },
  {
   "cell_type": "code",
   "execution_count": 2,
   "metadata": {},
   "outputs": [],
   "source": [
    "file_names = [f.split('/')[-1] for f in get_available_files()]"
   ]
  },
  {
   "cell_type": "code",
   "execution_count": 3,
   "metadata": {},
   "outputs": [],
   "source": [
    "def list_payment_methods(credit_cards_list):\n",
    "    payment_methods = []\n",
    "    for cc in credit_cards_list:\n",
    "        payment_methods.append(cc.alias_name)\n",
    "    payment_methods.append('Debit')\n",
    "    payment_methods.append('Cash')\n",
    "    return payment_methods"
   ]
  },
  {
   "cell_type": "code",
   "execution_count": 4,
   "metadata": {},
   "outputs": [],
   "source": [
    "ccs = hlp.load_credit_cards()"
   ]
  },
  {
   "cell_type": "code",
   "execution_count": 5,
   "metadata": {},
   "outputs": [],
   "source": [
    "ccs = hlp.load_credit_cards()\n",
    "ccs_str = list_payment_methods(ccs)"
   ]
  },
  {
   "cell_type": "code",
   "execution_count": 6,
   "metadata": {},
   "outputs": [
    {
     "data": {
      "text/plain": [
       "['Santander-Free', 'Bancomer-Platinum', 'Debit', 'Cash']"
      ]
     },
     "execution_count": 6,
     "metadata": {},
     "output_type": "execute_result"
    }
   ],
   "source": [
    "ccs_str"
   ]
  },
  {
   "cell_type": "code",
   "execution_count": 7,
   "metadata": {},
   "outputs": [],
   "source": [
    "import sys\n",
    "from PyQt5 import QtWidgets, QtCore\n",
    "\n",
    "app = QtWidgets.QApplication(sys.argv)\n",
    "\n",
    "class AvailableFilesForm(QtWidgets.QDialog):  \n",
    "    def __init__(self, available_files=[], available_methods=[]):\n",
    "        super(AvailableFilesForm, self).__init__()\n",
    "        \n",
    "        self.createFormGroupBox(available_files, available_methods)        \n",
    "\n",
    "        buttonBox = QtWidgets.QDialogButtonBox(QtWidgets.QDialogButtonBox.Ok | QtWidgets.QDialogButtonBox.Cancel)\n",
    "        buttonBox.accepted.connect(self.accept)\n",
    "        buttonBox.rejected.connect(self.reject)\n",
    "\n",
    "        mainLayout = QtWidgets.QVBoxLayout(self)\n",
    "        mainLayout.addWidget(self.formGroupBox)        \n",
    "        mainLayout.addWidget(buttonBox)     \n",
    "\n",
    "        self.setWindowTitle(\"Available Files\")    \n",
    "\n",
    "    def createFormGroupBox(self, available_files=[], available_methods=[]):\n",
    "        layout = QtWidgets.QFormLayout()\n",
    "        \n",
    "        self.label = QtWidgets.QLabel()\n",
    "        self.label.setGeometry(QtCore.QRect(10, 40, 221, 41))\n",
    "        self.label.setObjectName(\"label\")\n",
    "        self.label.setText(\"I have this files available, \\nwhich one do you want to process?\")\n",
    "        layout.addWidget(self.label)\n",
    "        \n",
    "        self.availableFiles = QtWidgets.QComboBox()\n",
    "        self.availableFiles.setGeometry(QtCore.QRect(250, 40, 181, 26))\n",
    "        self.availableFiles.setObjectName(\"availableFiles\")\n",
    "        for file in available_files:\n",
    "            self.availableFiles.addItem(file)\n",
    "        \n",
    "        layout.addWidget(self.availableFiles)\n",
    "        \n",
    "        \n",
    "        self.methodUsed = QtWidgets.QLabel()\n",
    "        self.methodUsed.setGeometry(QtCore.QRect(10, 140, 221, 41))\n",
    "        self.methodUsed.setObjectName(\"methodUsed\")\n",
    "        self.methodUsed.setText(\"Select the payment method used \\nfor those expenses.\")   \n",
    "        layout.addWidget(self.methodUsed)\n",
    "        \n",
    "        self.payMethodOptions = QtWidgets.QComboBox()\n",
    "        self.payMethodOptions.setGeometry(QtCore.QRect(250, 150, 191, 26))\n",
    "        self.payMethodOptions.setObjectName(\"payMethodOptions\") \n",
    "        for method in available_methods:\n",
    "            self.payMethodOptions.addItem(method)\n",
    "            \n",
    "        layout.addWidget(self.payMethodOptions)\n",
    "\n",
    "        self.formGroupBox = QtWidgets.QGroupBox(\"Form layout\")        \n",
    "        self.formGroupBox.setLayout(layout)\n",
    "\n",
    "    def accept(self):\n",
    "        self._output = self.availableFiles.currentIndex(), self.payMethodOptions.currentIndex()\n",
    "        super(AvailableFilesForm, self).accept()\n",
    "\n",
    "    def get_output(self):\n",
    "        return self._output"
   ]
  },
  {
   "cell_type": "code",
   "execution_count": 8,
   "metadata": {},
   "outputs": [],
   "source": [
    "# Call the UI and get the inputs\n",
    "dialog = AvailableFilesForm(\n",
    "    available_files = file_names,\n",
    "    available_methods = ccs_str\n",
    ")\n",
    "escrom = (-1,-1)\n",
    "if dialog.exec_() == AvailableFilesForm.Accepted:\n",
    "    escrom = dialog.get_output()"
   ]
  },
  {
   "cell_type": "code",
   "execution_count": 9,
   "metadata": {},
   "outputs": [
    {
     "data": {
      "text/plain": [
       "(-1, -1)"
      ]
     },
     "execution_count": 9,
     "metadata": {},
     "output_type": "execute_result"
    }
   ],
   "source": [
    "escrom"
   ]
  },
  {
   "cell_type": "code",
   "execution_count": 1,
   "metadata": {},
   "outputs": [],
   "source": [
    "from PyQt5 import QtCore, QtGui, QtWidgets\n",
    "\n",
    "class Ui_LogExpense(object):\n",
    "    def setupUi(self, LogExpense):\n",
    "        LogExpense.setObjectName(\"LogExpense\")\n",
    "        LogExpense.resize(521, 385)\n",
    "        \n",
    "        self.titleLabel = QtWidgets.QLabel(LogExpense)\n",
    "        self.titleLabel.setGeometry(QtCore.QRect(20, 20, 231, 31))\n",
    "        self.titleLabel.setObjectName(\"titleLabel\")\n",
    "        \n",
    "        self.insertDescription = QtWidgets.QLabel(LogExpense)\n",
    "        self.insertDescription.setGeometry(QtCore.QRect(120, 60, 301, 21))\n",
    "        self.insertDescription.setText(\"\")\n",
    "        self.insertDescription.setObjectName(\"insertDescription\")\n",
    "        \n",
    "        self.logExpenseLabel = QtWidgets.QLabel(LogExpense)\n",
    "        self.logExpenseLabel.setGeometry(QtCore.QRect(20, 160, 121, 31))\n",
    "        self.logExpenseLabel.setObjectName(\"logExpenseLabel\")\n",
    "        \n",
    "        self.logExpenseComboBox = QtWidgets.QComboBox(LogExpense)\n",
    "        self.logExpenseComboBox.setGeometry(QtCore.QRect(190, 160, 104, 26))\n",
    "        self.logExpenseComboBox.setObjectName(\"logExpenseComboBox\")\n",
    "        self.logExpenseComboBox.addItem(\"No\")\n",
    "        self.logExpenseComboBox.addItem(\"Yes\")\n",
    "        \n",
    "        self.CategoryLabel = QtWidgets.QLabel(LogExpense)\n",
    "        self.CategoryLabel.setGeometry(QtCore.QRect(20, 210, 110, 21))\n",
    "        self.CategoryLabel.setObjectName(\"CategoryLabel\")\n",
    "        \n",
    "        self.subCatLabel = QtWidgets.QLabel(LogExpense)\n",
    "        self.subCatLabel.setGeometry(QtCore.QRect(20, 250, 141, 21))\n",
    "        self.subCatLabel.setObjectName(\"subCatLabel\")\n",
    "        \n",
    "        self.catComboBox = QtWidgets.QComboBox(LogExpense)\n",
    "        self.catComboBox.setGeometry(QtCore.QRect(190, 210, 104, 26))\n",
    "        self.catComboBox.setObjectName(\"catComboBox\")\n",
    "        \n",
    "        self.subCatComboBox = QtWidgets.QComboBox(LogExpense)\n",
    "        self.subCatComboBox.setGeometry(QtCore.QRect(190, 250, 104, 26))\n",
    "        self.subCatComboBox.setObjectName(\"subCatComboBox\")\n",
    "        \n",
    "        self.instComboBox = QtWidgets.QComboBox(LogExpense)\n",
    "        self.instComboBox.setGeometry(QtCore.QRect(190, 300, 104, 26))\n",
    "        self.instComboBox.setObjectName(\"instComboBox\")\n",
    "        \n",
    "        self.installmentsLabel = QtWidgets.QLabel(LogExpense)\n",
    "        self.installmentsLabel.setGeometry(QtCore.QRect(20, 300, 151, 21))\n",
    "        self.installmentsLabel.setObjectName(\"installmentsLabel\")\n",
    "        \n",
    "        self.insertAmount = QtWidgets.QLabel(LogExpense)\n",
    "        self.insertAmount.setGeometry(QtCore.QRect(120, 90, 261, 21))\n",
    "        self.insertAmount.setText(\"\")\n",
    "        self.insertAmount.setObjectName(\"insertAmount\")\n",
    "        \n",
    "        self.insertDate = QtWidgets.QLabel(LogExpense)\n",
    "        self.insertDate.setGeometry(QtCore.QRect(120, 120, 261, 21))\n",
    "        self.insertDate.setText(\"\")\n",
    "        self.insertDate.setObjectName(\"insertDate\")\n",
    "        \n",
    "        self.descriptionLabel = QtWidgets.QLabel(LogExpense)\n",
    "        self.descriptionLabel.setGeometry(QtCore.QRect(40, 60, 81, 20))\n",
    "        self.descriptionLabel.setObjectName(\"descriptionLabel\")\n",
    "        \n",
    "        self.amountLabel = QtWidgets.QLabel(LogExpense)\n",
    "        self.amountLabel.setGeometry(QtCore.QRect(40, 90, 81, 20))\n",
    "        self.amountLabel.setObjectName(\"amountLabel\")\n",
    "        \n",
    "        self.dateLabel = QtWidgets.QLabel(LogExpense)\n",
    "        self.dateLabel.setGeometry(QtCore.QRect(40, 120, 81, 20))\n",
    "        self.dateLabel.setObjectName(\"dateLabel\")\n",
    "        \n",
    "        self.buttonBox = QtWidgets.QDialogButtonBox(LogExpense)\n",
    "        self.buttonBox.setGeometry(QtCore.QRect(340, 340, 164, 32))\n",
    "        self.buttonBox.setStandardButtons(QtWidgets.QDialogButtonBox.Cancel|QtWidgets.QDialogButtonBox.Ok)\n",
    "        self.buttonBox.setObjectName(\"buttonBox\")\n",
    "\n",
    "        self.retranslateUi(LogExpense)\n",
    "        QtCore.QMetaObject.connectSlotsByName(LogExpense)\n",
    "\n",
    "    def retranslateUi(self, LogExpense):\n",
    "        _translate = QtCore.QCoreApplication.translate\n",
    "        LogExpense.setWindowTitle(_translate(\"LogExpense\", \"Dialog\"))\n",
    "        self.titleLabel.setText(_translate(\"LogExpense\", \"Currently processing this expense:\"))\n",
    "        self.logExpenseLabel.setText(_translate(\"LogExpense\", \"Log this expense?\"))\n",
    "        self.descriptionLabel.setText(_translate(\"LogExpense\", \"Description:\"))\n",
    "        self.amountLabel.setText(_translate(\"LogExpense\", \"Amount:\"))\n",
    "        self.dateLabel.setText(_translate(\"LogExpense\", \"Date:\"))"
   ]
  },
  {
   "cell_type": "code",
   "execution_count": null,
   "metadata": {},
   "outputs": [],
   "source": []
  },
  {
   "cell_type": "code",
   "execution_count": 2,
   "metadata": {},
   "outputs": [],
   "source": [
    "import sys\n",
    "from PyQt5.QtWidgets import QDialog, QApplication\n",
    "from PyQt5 import QtCore, QtGui, QtWidgets\n",
    "\n",
    "class LogExpenseForm(QDialog):\n",
    "    def __init__(self):\n",
    "        super().__init__()\n",
    "        self.ui = Ui_LogExpense()\n",
    "        self.ui.setupUi(self)\n",
    "        \n",
    "        self.ui.buttonBox.accepted.connect(self.accept)\n",
    "        self.ui.buttonBox.rejected.connect(self.reject)\n",
    "        \n",
    "        self.ui.logExpenseComboBox.currentIndexChanged.connect(self.log_expense_state_changed)\n",
    "        \n",
    "        self.show()\n",
    "        \n",
    "    def accept(self):\n",
    "        self._output = self.ui.logExpenseComboBox.currentIndex()\n",
    "        super().accept()\n",
    "\n",
    "    def get_output(self):\n",
    "        return self._output\n",
    "    \n",
    "    def log_expense_state_changed(self):\n",
    "        \n",
    "        if self.ui.logExpenseComboBox.currentIndex() == 1:\n",
    "            self.show_categories()\n",
    "        else:\n",
    "            self.ui.CategoryLabel.setText('')\n",
    "            self.ui.subCatLabel.setText('')\n",
    "            self.ui.installmentsLabel.setText('')\n",
    "            self.ui.catComboBox.clear()\n",
    "            self.ui.subCatComboBox.clear()\n",
    "            self.ui.instComboBox.clear()\n",
    "    \n",
    "    def show_installments(self):\n",
    "        \n",
    "        self.ui.installmentsLabel.setText('How many Installments? ')\n",
    "        \n",
    "        self.ui.instComboBox.addItem('1')\n",
    "        self.ui.instComboBox.addItem('3')\n",
    "        self.ui.instComboBox.addItem('6')\n",
    "        self.ui.instComboBox.addItem('9')\n",
    "        self.ui.instComboBox.addItem('12')\n",
    "        self.ui.instComboBox.addItem('18')\n",
    "    \n",
    "    def show_subcategories(self):\n",
    "        \n",
    "        self.ui.subCatLabel.setText('Select SubCategory: ') \n",
    "        \n",
    "        self.ui.subCatComboBox.addItem('escrom1')\n",
    "        self.ui.subCatComboBox.addItem('escrom2')\n",
    "        self.ui.subCatComboBox.addItem('escrom3')\n",
    "        \n",
    "        self.ui.subCatComboBox.currentIndexChanged.connect(self.show_installments)\n",
    "        \n",
    "    def show_categories(self):\n",
    "        \n",
    "        self.ui.CategoryLabel.setText('Select Category: ')\n",
    "        \n",
    "        self.ui.catComboBox.addItem('escrom1')\n",
    "        self.ui.catComboBox.addItem('escrom2')\n",
    "        self.ui.catComboBox.addItem('escrom3')\n",
    "        \n",
    "        self.ui.catComboBox.currentIndexChanged.connect(self.show_subcategories)\n",
    "        \n",
    "app = QApplication(sys.argv)\n",
    "dialog = LogExpenseForm()\n",
    "escrom = -1\n",
    "if dialog.exec_() == LogExpenseForm.Accepted:\n",
    "    escrom = dialog.get_output()\n",
    "#w = MyForm()\n",
    "#w.show()\n",
    "#sys.exit(app.exec_())"
   ]
  },
  {
   "cell_type": "code",
   "execution_count": 3,
   "metadata": {},
   "outputs": [
    {
     "data": {
      "text/plain": [
       "0"
      ]
     },
     "execution_count": 3,
     "metadata": {},
     "output_type": "execute_result"
    }
   ],
   "source": [
    "escrom"
   ]
  },
  {
   "cell_type": "code",
   "execution_count": null,
   "metadata": {},
   "outputs": [],
   "source": []
  }
 ],
 "metadata": {
  "kernelspec": {
   "display_name": "Python 3",
   "language": "python",
   "name": "python3"
  },
  "language_info": {
   "codemirror_mode": {
    "name": "ipython",
    "version": 3
   },
   "file_extension": ".py",
   "mimetype": "text/x-python",
   "name": "python",
   "nbconvert_exporter": "python",
   "pygments_lexer": "ipython3",
   "version": "3.7.6"
  }
 },
 "nbformat": 4,
 "nbformat_minor": 2
}
